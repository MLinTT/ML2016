{
 "cells": [
  {
   "cell_type": "markdown",
   "metadata": {},
   "source": [
    "### MNIST classification"
   ]
  },
  {
   "cell_type": "code",
   "execution_count": 30,
   "metadata": {
    "collapsed": true
   },
   "outputs": [],
   "source": [
    "require 'nn';\n",
    "require 'rnn';\n",
    "matio = require 'matio'"
   ]
  },
  {
   "cell_type": "code",
   "execution_count": 31,
   "metadata": {
    "collapsed": true
   },
   "outputs": [],
   "source": [
    "data = matio.load('ex4data1.mat')\n",
    "trainset = {}\n",
    "trainset.data = data.X\n",
    "trainset.label = data.y[{ {}, 1 }]"
   ]
  },
  {
   "cell_type": "code",
   "execution_count": 32,
   "metadata": {
    "collapsed": true
   },
   "outputs": [],
   "source": [
    "setmetatable(trainset,\n",
    "    {__index = function(t,i)\n",
    "                return {t.data[i], t.label[i]}\n",
    "        end}\n",
    ");\n",
    " \n",
    "function trainset:size()\n",
    "    return self.data:size(1)\n",
    "end"
   ]
  },
  {
   "cell_type": "code",
   "execution_count": 33,
   "metadata": {
    "collapsed": true
   },
   "outputs": [],
   "source": [
    "mean = {}\n",
    "stdv = {}\n",
    "for i=1,400 do\n",
    "    mean[i] = trainset.data[{ {},{i} }]:mean()\n",
    "    stdv[i] = trainset.data[{ {}, {i} }]:std()\n",
    "    --print(i .. 'th mean: ' .. mean[i])\n",
    "    --print(i .. 'th std dev: ' .. stdv[i])\n",
    "    trainset.data[{ {},{i} }]:add(-mean[i])\n",
    "    if stdv[i] ~= 0 then\n",
    "        trainset.data[{ {},{i} }]:div(stdv[i])\n",
    "    end\n",
    "end"
   ]
  },
  {
   "cell_type": "markdown",
   "metadata": {},
   "source": [
    "### define model"
   ]
  },
  {
   "cell_type": "code",
   "execution_count": 34,
   "metadata": {
    "collapsed": true
   },
   "outputs": [],
   "source": [
    "batchSize = 5000\n",
    "rho = 20\n",
    "hiddenSize = 10\n",
    "nIndex = 20\n",
    "nClass = 10"
   ]
  },
  {
   "cell_type": "code",
   "execution_count": 35,
   "metadata": {
    "collapsed": true
   },
   "outputs": [],
   "source": [
    "rnn = nn.Sequential()\n",
    "r = nn.Recurrent(\n",
    "    hiddenSize, nn.Linear(nIndex, hiddenSize),\n",
    "    nn.Linear(hiddenSize, hiddenSize), nn.Sigmoid(),\n",
    "    rho\n",
    ")\n",
    "rnn:add(r)\n",
    "rnn:add(nn.Linear(hiddenSize, nClass))\n",
    "rnn:add(nn.LogSoftMax())\n",
    "rnn = nn.Sequencer(rnn)"
   ]
  },
  {
   "cell_type": "code",
   "execution_count": 36,
   "metadata": {
    "collapsed": true
   },
   "outputs": [],
   "source": [
    "criterion = nn.SequencerCriterion(nn.ClassNLLCriterion())"
   ]
  },
  {
   "cell_type": "markdown",
   "metadata": {},
   "source": [
    "### train"
   ]
  },
  {
   "cell_type": "code",
   "execution_count": 37,
   "metadata": {
    "collapsed": true
   },
   "outputs": [],
   "source": [
    "lr = 0.01"
   ]
  },
  {
   "cell_type": "code",
   "execution_count": 38,
   "metadata": {
    "collapsed": false,
    "scrolled": false
   },
   "outputs": [
    {
     "data": {
      "text/plain": [
       "1\t2.3557428410779\t\n"
      ]
     },
     "execution_count": 38,
     "metadata": {},
     "output_type": "execute_result"
    },
    {
     "data": {
      "text/plain": [
       "11\tnan\t\n"
      ]
     },
     "execution_count": 38,
     "metadata": {},
     "output_type": "execute_result"
    },
    {
     "data": {
      "text/plain": [
       "21\tnan\t\n"
      ]
     },
     "execution_count": 38,
     "metadata": {},
     "output_type": "execute_result"
    },
    {
     "data": {
      "text/plain": [
       "31\tnan\t\n"
      ]
     },
     "execution_count": 38,
     "metadata": {},
     "output_type": "execute_result"
    },
    {
     "data": {
      "text/plain": [
       "41\tnan\t\n"
      ]
     },
     "execution_count": 38,
     "metadata": {},
     "output_type": "execute_result"
    },
    {
     "data": {
      "text/plain": [
       "51\tnan\t\n"
      ]
     },
     "execution_count": 38,
     "metadata": {},
     "output_type": "execute_result"
    },
    {
     "data": {
      "text/plain": [
       "61\tnan\t\n"
      ]
     },
     "execution_count": 38,
     "metadata": {},
     "output_type": "execute_result"
    },
    {
     "data": {
      "text/plain": [
       "71\tnan\t\n"
      ]
     },
     "execution_count": 38,
     "metadata": {},
     "output_type": "execute_result"
    },
    {
     "data": {
      "text/plain": [
       "81\tnan\t\n"
      ]
     },
     "execution_count": 38,
     "metadata": {},
     "output_type": "execute_result"
    },
    {
     "data": {
      "text/plain": [
       "91\tnan\t\n"
      ]
     },
     "execution_count": 38,
     "metadata": {},
     "output_type": "execute_result"
    }
   ],
   "source": [
    "prev = 100\n",
    "for epoch = 1,1e2 do\n",
    "    local inputs, targets = {}, {}\n",
    "    for step=1,rho do\n",
    "        table.insert(inputs, trainset.data[{{},{(step-1)*rho+1, step*rho}}])\n",
    "        table.insert(targets, trainset.label[{{}}])\n",
    "    end\n",
    "\n",
    "    local outputs = rnn:forward(inputs)\n",
    "    local err = criterion:forward(outputs, targets)\n",
    "    if epoch%10 == 1 then print(epoch, err/rho) end\n",
    "    local gradOutputs = criterion:backward(outputs, targets)\n",
    "    rnn:backward(inputs, gradOutputs)\n",
    "    rnn:updateParameters(lr)\n",
    "    rnn:zeroGradParameters()\n",
    "end"
   ]
  },
  {
   "cell_type": "markdown",
   "metadata": {},
   "source": [
    "Sometimes it works well but most of time it didn't work very well."
   ]
  },
  {
   "cell_type": "markdown",
   "metadata": {},
   "source": [
    "### test"
   ]
  },
  {
   "cell_type": "code",
   "execution_count": 1,
   "metadata": {
    "collapsed": false,
    "scrolled": true
   },
   "outputs": [
    {
     "data": {
      "text/plain": [
       "10\t = \t0\t0%\t\n",
       "11\t = \t0\t0%\t\n",
       "12\t = \t0\t0%\t\n",
       "13\t = \t0\t0%\t\n",
       "14\t = \t0\t0%\t\n",
       "15\t = \t0\t0%\t\n",
       "16\t = \t0\t0%\t\n",
       "17\t = \t0\t0%\t\n",
       "18\t = \t0\t0%\t\n",
       "19\t = \t0\t0%\t\n",
       "20\t = \t0\t0%\t\n"
      ]
     },
     "execution_count": 1,
     "metadata": {},
     "output_type": "execute_result"
    }
   ],
   "source": [
    "correction = {}\n",
    "--trainsize = trainset:size()\n",
    "trainsize = 100\n",
    "for i=10,20 do\n",
    "    correction[i] = 0\n",
    "end\n",
    "for i=1,trainsize do\n",
    "    local answer = trainset.label[i]\n",
    "    local inputs = {}\n",
    "    for step=1,rho do\n",
    "        table.insert(inputs, trainset.data[{{i},{(step-1)*20+1, step*20}}])\n",
    "    end\n",
    "    local prediction = rnn:forward(inputs)\n",
    "    for d=10,20 do\n",
    "        guess = prediction[d][{1,{}}]\n",
    "        local confidences, indices = torch.max(guess)\n",
    "        -- if i%100 == 1 then print(answer, guess, indices[1]) end\n",
    "        if (answer == indices) then\n",
    "            correction[d] = correction[d] + 1\n",
    "        end\n",
    "    end\n",
    "end\n",
    "for i=10,20 do\n",
    "    print(i, \" = \", correction[i], 100*correction[i]/trainsize .. '%')\n",
    "end"
   ]
  },
  {
   "cell_type": "markdown",
   "metadata": {
    "collapsed": true
   },
   "source": [
    "- Best accuracy: 40%\n",
    "- Common accuracy: 25~30%"
   ]
  },
  {
   "cell_type": "code",
   "execution_count": null,
   "metadata": {
    "collapsed": true
   },
   "outputs": [],
   "source": []
  }
 ],
 "metadata": {
  "kernelspec": {
   "display_name": "iTorch",
   "language": "lua",
   "name": "itorch"
  },
  "language_info": {
   "name": "lua",
   "version": "20100"
  }
 },
 "nbformat": 4,
 "nbformat_minor": 0
}
