{
 "cells": [
  {
   "cell_type": "markdown",
   "metadata": {},
   "source": [
    "[example-logistic-regression](https://github.com/torch/demos/blob/master/logistic-regression/example-logistic-regression.lua)\n"
   ]
  },
  {
   "cell_type": "code",
   "execution_count": 61,
   "metadata": {
    "collapsed": true
   },
   "outputs": [],
   "source": [
    "require 'nn'\n",
    "require 'optim'"
   ]
  },
  {
   "cell_type": "code",
   "execution_count": 62,
   "metadata": {
    "collapsed": true
   },
   "outputs": [],
   "source": [
    "local matio = require 'matio'\n",
    "data = matio.load('ex3data1.mat')"
   ]
  },
  {
   "cell_type": "code",
   "execution_count": 63,
   "metadata": {
    "collapsed": false,
    "scrolled": true
   },
   "outputs": [],
   "source": [
    "dataset_inputs = data.X"
   ]
  },
  {
   "cell_type": "code",
   "execution_count": 64,
   "metadata": {
    "collapsed": false
   },
   "outputs": [],
   "source": [
    "dataset_inputs[{1,{1,5}}]"
   ]
  },
  {
   "cell_type": "code",
   "execution_count": 65,
   "metadata": {
    "collapsed": false
   },
   "outputs": [
    {
     "data": {
      "text/plain": [
       " 0\n",
       " 0\n",
       " 0\n",
       " 0\n",
       " 0\n",
       "[torch.DoubleTensor of size 5]\n",
       "\n"
      ]
     },
     "execution_count": 64,
     "metadata": {},
     "output_type": "execute_result"
    },
    {
     "data": {
      "text/plain": [
       "1th mean: 0\t\n",
       "1th std dev: 0\t\n",
       "2th mean: 0\t\n",
       "2th std dev: 0\t\n",
       "3th mean: 1.5490603725898e-07\t\n",
       "3th std dev: 1.0953510939254e-05\t\n",
       "4th mean: -1.8818048747277e-06\t\n",
       "4th std dev: 0.0001075604900875\t\n",
       "5th mean: -3.5801572712418e-06\t\n",
       "5th std dev: 0.00028457744844492\t\n",
       "6th mean: 0.00011730240672658\t\n",
       "6th std dev: 0.0073982134339195\t\n"
      ]
     },
     "execution_count": 65,
     "metadata": {},
     "output_type": "execute_result"
    },
    {
     "data": {
      "text/plain": [
       "7th mean: 0.00014538520220588\t\n",
       "7th std dev: 0.0074961819202404\t\n",
       "8th mean: 8.0491833462422e-05\t\n",
       "8th std dev: 0.0050569894914096\t\n",
       "9th mean: 1.9432563997822e-05\t\n",
       "9th std dev: 0.0039370458814942\t\n",
       "10th mean: 4.3615856481482e-05\t\n",
       "10th std dev: 0.00365338029521\t\n",
       "11th mean: 1.4101419526144e-05\t\n",
       "11th std dev: 0.0011329241186539\t\n",
       "12th mean: -1.0846670751634e-05\t\n",
       "12th std dev: 0.00042597794324631\t\n",
       "13th mean: -2.3506977565801e-05\t\n",
       "13th std dev: 0.0008688687515936\t\n",
       "14th mean: -4.1758918845316e-05\t\n",
       "14th std dev: 0.00097776583547032\t\n"
      ]
     },
     "execution_count": 65,
     "metadata": {},
     "output_type": "execute_result"
    },
    {
     "data": {
      "text/plain": [
       "15th mean: -6.5348668981481e-05\t\n",
       "15th std dev: 0.0015243932683982\t\n",
       "16th mean: -4.7166649645969e-05\t\n",
       "16th std dev: 0.0012171004861695\t\n",
       "17th mean: -1.3713235294118e-05\t\n",
       "17th std dev: 0.00055278164296615\t\n",
       "18th mean: -9.2739798622141e-08\t\n",
       "18th std dev: 6.6718356129742e-05\t\n",
       "19th mean: 1.463779956427e-07\t\n",
       "19th std dev: 8.5523970634431e-06\t\n",
       "20th mean: 0\t\n",
       "20th std dev: 0\t\n",
       "21th mean: 4.9360021786492e-08\t\n",
       "21th std dev: 3.4902806124744e-06\t\n",
       "22th mean: -3.9828431372549e-07\t\n",
       "22th std dev: 4.035124681273e-05\t\n",
       "23th mean: -1.6681953446659e-06\t\n",
       "23th std dev: 0.0001370393643197\t\n"
      ]
     },
     "execution_count": 65,
     "metadata": {},
     "output_type": "execute_result"
    },
    {
     "data": {
      "text/plain": [
       "24th mean: -5.1290543300655e-06\t\n",
       "24th std dev: 0.0012383971790793\t\n",
       "25th mean: -2.8597981345316e-05\t\n",
       "25th std dev: 0.0024570523061768\t\n",
       "26th mean: 0.00016403239038671\t\n",
       "26th std dev: 0.01282996247479\t\n",
       "27th mean: 0.00059669522058823\t\n",
       "27th std dev: 0.019428552025872\t\n",
       "28th mean: 0.00089585477898713\t\n",
       "28th std dev: 0.024460062036649\t\n",
       "29th mean: 0.00070700141271786\t\n",
       "29th std dev: 0.02323332545066\t\n",
       "30th mean: 0.00026847031930828\t\n",
       "30th std dev: 0.01760832221861\t\n",
       "31th mean: -0.00010165724741286\t\n",
       "31th std dev: 0.010597033918224\t\n"
      ]
     },
     "execution_count": 65,
     "metadata": {},
     "output_type": "execute_result"
    },
    {
     "data": {
      "text/plain": [
       "32th mean: -0.00021517673270697\t\n",
       "32th std dev: 0.0047004313561796\t\n",
       "33th mean: -0.000244924055277\t\n",
       "33th std dev: 0.010055690160117\t\n",
       "34th mean: -0.0002886743259804\t\n",
       "34th std dev: 0.011331108895321\t\n",
       "35th mean: -9.4577529275605e-05\t\n",
       "35th std dev: 0.017051970734345\t\n",
       "36th mean: -9.594379765799e-06\t\n",
       "36th std dev: 0.013422005133815\t\n",
       "37th mean: -5.257615059913e-05\t\n",
       "37th std dev: 0.0061836316052786\t\n",
       "38th mean: -5.4476139034963e-05\t\n",
       "38th std dev: 0.001111674042943\t\n",
       "39th mean: -7.7421023965142e-06\t\n",
       "39th std dev: 0.000297944060361\t\n"
      ]
     },
     "execution_count": 65,
     "metadata": {},
     "output_type": "execute_result"
    },
    {
     "data": {
      "text/plain": [
       "40th mean: -1.7717864923747e-06\t\n",
       "40th std dev: 0.00010020883239151\t\n",
       "41th mean: -4.2344380579675e-07\t\n",
       "41th std dev: 3.1567527703458e-05\t\n",
       "42th mean: 4.3901593901594e-06\t\n",
       "42th std dev: 0.00037171339946999\t\n",
       "43th mean: -2.0255699203969e-05\t\n",
       "43th std dev: 0.00098740139205967\t\n",
       "44th mean: 0.00013635096748332\t\n",
       "44th std dev: 0.0087301135575244\t\n",
       "45th mean: 0.0008507942127648\t\n",
       "45th std dev: 0.020990704055263\t\n",
       "46th mean: 0.0028306032706915\t\n",
       "46th std dev: 0.03952116990404\t\n",
       "47th mean: 0.0048650156536627\t\n",
       "47th std dev: 0.052950031554633\t\n",
       "48th mean: 0.0054525296288094\t\n",
       "48th std dev: 0.060710193362158\t\n",
       "49th mean: 0.0040561512474012\t\n",
       "49th std dev: 0.052757698412911\t\n",
       "50th mean: 0.0019624707037354\t\n",
       "50th std dev: 0.037497404856753\t\n"
      ]
     },
     "execution_count": 65,
     "metadata": {},
     "output_type": "execute_result"
    },
    {
     "data": {
      "text/plain": [
       "51th mean: 0.001250021187477\t\n",
       "51th std dev: 0.038405685370018\t\n",
       "52th mean: 0.0012302311802753\t\n",
       "52th std dev: 0.032939098773708\t\n",
       "53th mean: 0.0032979405700844\t\n",
       "53th std dev: 0.047907632653821\t\n",
       "54th mean: 0.00790784352452\t\n",
       "54th std dev: 0.068585519213919\t\n",
       "55th mean: 0.010087156122186\t\n",
       "55th std dev: 0.079326613949225\t\n",
       "56th mean: 0.0060993521632492\t\n",
       "56th std dev: 0.061068394655569\t\n",
       "57th mean: 0.001909158167217\t\n",
       "57th std dev: 0.031411422417826\t\n",
       "58th mean: 0.00052506241540361\t\n",
       "58th std dev: 0.015287760199405\t\n",
       "59th mean: -2.0157134510076e-05\t\n",
       "59th std dev: 0.0030034907686528\t\n",
       "60th mean: 6.3147174323643e-06\t\n",
       "60th std dev: 0.0013379658384699\t\n",
       "61th mean: -1.7691448801743e-06\t\n",
       "61th std dev: 0.00010854214251996\t\n"
      ]
     },
     "execution_count": 65,
     "metadata": {},
     "output_type": "execute_result"
    },
    {
     "data": {
      "text/plain": [
       "62th mean: 3.0821078431321e-08\t\n",
       "62th std dev: 0.0012935561954197\t\n",
       "63th mean: 4.9083292568585e-05\t\n",
       "63th std dev: 0.0051255836957281\t\n",
       "64th mean: 0.0017625492783224\t\n",
       "64th std dev: 0.028165123876022\t\n",
       "65th mean: 0.0057877279173475\t\n",
       "65th std dev: 0.060296572735106\t\n",
       "66th mean: 0.014060116234341\t\n",
       "66th std dev: 0.092413223183147\t\n",
       "67th mean: 0.021187792626634\t\n",
       "67th std dev: 0.11670796997563\t\n",
       "68th mean: 0.022875308871088\t\n",
       "68th std dev: 0.12247103519232\t\n",
       "69th mean: 0.021551266520289\t\n",
       "69th std dev: 0.11749721912539\t\n",
       "70th mean: 0.021301921728622\t\n",
       "70th std dev: 0.11400263133833\t\n",
       "71th mean: 0.026146090400327\t\n",
       "71th std dev: 0.12182588222079\t\n",
       "72th mean: 0.033897620319308\t\n"
      ]
     },
     "execution_count": 65,
     "metadata": {},
     "output_type": "execute_result"
    },
    {
     "data": {
      "text/plain": [
       "72th std dev: 0.13645224602769\t\n",
       "73th mean: 0.046267150167135\t\n",
       "73th std dev: 0.1636680319205\t\n",
       "74th mean: 0.059226064188453\t\n",
       "74th std dev: 0.19162247193003\t\n",
       "75th mean: 0.061867278407543\t\n",
       "75th std dev: 0.20058756125924\t\n",
       "76th mean: 0.042665046565223\t\n",
       "76th std dev: 0.16137943421268\t\n",
       "77th mean: 0.017329806621051\t\n",
       "77th std dev: 0.097673043568319\t\n",
       "78th mean: 0.0041608828692946\t\n",
       "78th std dev: 0.049100075361602\t\n",
       "79th mean: 0.00065534313044662\t\n",
       "79th std dev: 0.02121960977459\t\n",
       "80th mean: 0.00014534237813181\t\n",
       "80th std dev: 0.006256744238922\t\n",
       "81th mean: -2.0632421023965e-06\t\n",
       "81th std dev: 0.0001260948842367\t\n",
       "82th mean: -5.2067681100218e-05\t\n",
       "82th std dev: 0.0013479783828771\t\n"
      ]
     },
     "execution_count": 65,
     "metadata": {},
     "output_type": "execute_result"
    },
    {
     "data": {
      "text/plain": [
       "83th mean: 0.00048102435693612\t\n",
       "83th std dev: 0.019970114077064\t\n",
       "84th mean: 0.0058968659790305\t\n",
       "84th std dev: 0.057820367539533\t\n",
       "85th mean: 0.018889838647195\t\n",
       "85th std dev: 0.11288574349303\t\n",
       "86th mean: 0.03713186087963\t\n",
       "86th std dev: 0.15546166225104\t\n",
       "87th mean: 0.055099420880991\t\n",
       "87th std dev: 0.19233792841622\t\n",
       "88th mean: 0.063584481666055\t\n",
       "88th std dev: 0.20814829863636\t\n",
       "89th mean: 0.07008858793573\t\n",
       "89th std dev: 0.21862120512847\t\n",
       "90th mean: 0.084061976160811\t\n",
       "90th std dev: 0.23642764240541\t\n",
       "91th mean: 0.10225958810594\t\n",
       "91th std dev: 0.26041031037413\t\n",
       "92th mean: 0.11672204340959\t\n",
       "92th std dev: 0.27672588486175\t\n",
       "93th mean: 0.12845655427826\t\n",
       "93th std dev: 0.28846082370922\t\n",
       "94th mean: 0.14520734244621\t\n",
       "94th std dev: 0.30354667904399\t\n"
      ]
     },
     "execution_count": 65,
     "metadata": {},
     "output_type": "execute_result"
    },
    {
     "data": {
      "text/plain": [
       "95th mean: 0.15544962218137\t\n",
       "95th std dev: 0.31213649886255\t\n",
       "96th mean: 0.12483643943015\t\n",
       "96th std dev: 0.2814738675317\t\n",
       "97th mean: 0.061624998679194\t\n",
       "97th std dev: 0.19128641697894\t\n",
       "98th mean: 0.016206487352737\t\n",
       "98th std dev: 0.097678645156865\t\n",
       "99th mean: 0.0040115374965959\t\n",
       "99th std dev: 0.05186291068515\t\n",
       "100th mean: 0.00091832094226579\t\n",
       "100th std dev: 0.017347036850763\t\n",
       "101th mean: 2.6720428240741e-05\t\n",
       "101th std dev: 0.0022929712594876\t\n",
       "102th mean: 4.5954714733114e-05\t\n",
       "102th std dev: 0.0092327269820186\t\n",
       "103th mean: 0.0017599031905208\t\n",
       "103th std dev: 0.033907624715458\t\n",
       "104th mean: 0.015952903131808\t\n",
       "104th std dev: 0.096756406172502\t\n",
       "105th mean: 0.04840213267293\t\n",
       "105th std dev: 0.18028733452604\t\n"
      ]
     },
     "execution_count": 65,
     "metadata": {},
     "output_type": "execute_result"
    },
    {
     "data": {
      "text/plain": [
       "106th mean: 0.090386042514297\t\n",
       "106th std dev: 0.23310146641078\t\n",
       "107th mean: 0.13073282357707\t\n",
       "107th std dev: 0.28217195449918\t\n",
       "108th mean: 0.15504562932616\t\n",
       "108th std dev: 0.30737919696937\t\n",
       "109th mean: 0.1786536770527\t\n",
       "109th std dev: 0.32356209706933\t\n",
       "110th mean: 0.20833879420956\t\n",
       "110th std dev: 0.34946835881266\t\n",
       "111th mean: 0.22381187119758\t\n",
       "111th std dev: 0.35921147935926\t\n",
       "112th mean: 0.22073171239788\t\n",
       "112th std dev: 0.35848736256153\t\n",
       "113th mean: 0.2122364574518\t\n",
       "113th std dev: 0.35273599782591\t\n",
       "114th mean: 0.21910527452002\t\n",
       "114th std dev: 0.35547175714145\t\n",
       "115th mean: 0.2465745366762\t\n",
       "115th std dev: 0.37442841930357\t\n"
      ]
     },
     "execution_count": 65,
     "metadata": {},
     "output_type": "execute_result"
    },
    {
     "data": {
      "text/plain": [
       "116th mean: 0.23892240737337\t\n",
       "116th std dev: 0.36988234926536\t\n",
       "117th mean: 0.15098564927492\t\n",
       "117th std dev: 0.29194554892657\t\n",
       "118th mean: 0.050592418174962\t\n",
       "118th std dev: 0.17058872246215\t\n",
       "119th mean: 0.014339826412718\t\n",
       "119th std dev: 0.10038384931071\t\n",
       "120th mean: 0.0025703778526688\t\n",
       "120th std dev: 0.031321250317277\t\n",
       "121th mean: 5.3709538398693e-05\t\n",
       "121th std dev: 0.0049202878152212\t\n",
       "122th mean: 0.00035946711941721\t\n",
       "122th std dev: 0.023845218255926\t\n",
       "123th mean: 0.0051111659464895\t\n",
       "123th std dev: 0.060121452715901\t\n",
       "124th mean: 0.035290660430283\t\n",
       "124th std dev: 0.14746246977851\t\n",
       "125th mean: 0.098931053741149\t\n",
       "125th std dev: 0.24927558952785\t\n",
       "126th mean: 0.18013517235498\t\n",
       "126th std dev: 0.31826670459711\t\n"
      ]
     },
     "execution_count": 65,
     "metadata": {},
     "output_type": "execute_result"
    },
    {
     "data": {
      "text/plain": [
       "127th mean: 0.24279864077819\t\n",
       "127th std dev: 0.36356917509734\t\n",
       "128th mean: 0.28347076751525\t\n",
       "128th std dev: 0.37945869216437\t\n",
       "129th mean: 0.3118635610192\t\n",
       "129th std dev: 0.39144418573622\t\n",
       "130th mean: 0.33248082076185\t\n",
       "130th std dev: 0.40064788275921\t\n",
       "131th mean: 0.32998395043233\t\n",
       "131th std dev: 0.40032830927839\t\n",
       "132th mean: 0.30439064883238\t\n",
       "132th std dev: 0.39255370093998\t\n",
       "133th mean: 0.26564361233405\t\n",
       "133th std dev: 0.37569046110835\t\n",
       "134th mean: 0.25661107517702\t\n",
       "134th std dev: 0.36935714367535\t\n",
       "135th mean: 0.30211264558143\t\n",
       "135th std dev: 0.38912394005866\t\n",
       "136th mean: 0.33606421785812\t\n",
       "136th std dev: 0.40633798378385\t\n",
       "137th mean: 0.26177567289624\t\n",
       "137th std dev: 0.36795235221506\t\n"
      ]
     },
     "execution_count": 65,
     "metadata": {},
     "output_type": "execute_result"
    },
    {
     "data": {
      "text/plain": [
       "138th mean: 0.10427002065754\t\n",
       "138th std dev: 0.24077479512877\t\n",
       "139th mean: 0.02741972642293\t\n",
       "139th std dev: 0.13985559147298\t\n",
       "140th mean: 0.0039491229609205\t\n",
       "140th std dev: 0.038000643770738\t\n",
       "141th mean: -1.0631415352003e-05\t\n",
       "141th std dev: 0.0035385941217822\t\n",
       "142th mean: 0.00059026719932602\t\n",
       "142th std dev: 0.027233354652496\t\n",
       "143th mean: 0.011789648252781\t\n",
       "143th std dev: 0.08908585452895\t\n",
       "144th mean: 0.071661183818434\t\n",
       "144th std dev: 0.20842086636513\t\n",
       "145th mean: 0.18107729526585\t\n",
       "145th std dev: 0.32286453521674\t\n",
       "146th mean: 0.2970508924626\t\n",
       "146th std dev: 0.37836043941\t\n",
       "147th mean: 0.37140945847431\t\n",
       "147th std dev: 0.39843368838036\t\n",
       "148th mean: 0.3966571324111\t\n",
       "148th std dev: 0.40714390649235\t\n"
      ]
     },
     "execution_count": 65,
     "metadata": {},
     "output_type": "execute_result"
    },
    {
     "data": {
      "text/plain": [
       "149th mean: 0.38875322836071\t\n",
       "149th std dev: 0.40971016763549\t\n",
       "150th mean: 0.37952143647494\t\n",
       "150th std dev: 0.4088635860246\t\n",
       "151th mean: 0.3703870941258\t\n",
       "151th std dev: 0.40452279753313\t\n",
       "152th mean: 0.34640495427894\t\n",
       "152th std dev: 0.3965724164409\t\n",
       "153th mean: 0.29879197510791\t\n",
       "153th std dev: 0.38150987430798\t\n",
       "154th mean: 0.28881842307692\t\n",
       "154th std dev: 0.38864411311794\t\n",
       "155th mean: 0.34631495044705\t\n",
       "155th std dev: 0.40550863382222\t\n",
       "156th mean: 0.41763519143465\t\n",
       "156th std dev: 0.41349851846228\t\n",
       "157th mean: 0.36817424869893\t\n",
       "157th std dev: 0.40601080167943\t\n",
       "158th mean: 0.16187408503696\t\n",
       "158th std dev: 0.29265075274824\t\n"
      ]
     },
     "execution_count": 65,
     "metadata": {},
     "output_type": "execute_result"
    },
    {
     "data": {
      "text/plain": [
       "159th mean: 0.037316125874744\t\n",
       "159th std dev: 0.16416916638371\t\n",
       "160th mean: 0.0051411015110133\t\n",
       "160th std dev: 0.046326954380998\t\n",
       "161th mean: -4.5368978077342e-05\t\n",
       "161th std dev: 0.0050717987102207\t\n",
       "162th mean: 0.0005565079690904\t\n",
       "162th std dev: 0.03164419472073\t\n",
       "163th mean: 0.021782610890302\t\n",
       "163th std dev: 0.11428162461969\t\n",
       "164th mean: 0.12333868043301\t\n",
       "164th std dev: 0.26744352605535\t\n",
       "165th mean: 0.27535803483115\t\n",
       "165th std dev: 0.37605558074113\t\n",
       "166th mean: 0.40389427864583\t\n",
       "166th std dev: 0.39261682816995\t\n",
       "167th mean: 0.45003209415169\t\n",
       "167th std dev: 0.41062103178492\t\n",
       "168th mean: 0.40371540608821\t\n",
       "168th std dev: 0.40465488217337\t\n",
       "169th mean: 0.35115056604711\t\n",
       "169th std dev: 0.39861030421042\t\n"
      ]
     },
     "execution_count": 65,
     "metadata": {},
     "output_type": "execute_result"
    },
    {
     "data": {
      "text/plain": [
       "170th mean: 0.34889184565632\t\n",
       "170th std dev: 0.39729238829984\t\n",
       "171th mean: 0.38256310128336\t\n",
       "171th std dev: 0.39074054796314\t\n",
       "172th mean: 0.38934853014706\t\n",
       "172th std dev: 0.39835248322099\t\n",
       "173th mean: 0.33366180928213\t\n",
       "173th std dev: 0.39874739572891\t\n",
       "174th mean: 0.31435188999183\t\n",
       "174th std dev: 0.3954391823791\t\n",
       "175th mean: 0.38733660311479\t\n",
       "175th std dev: 0.40841783050659\t\n",
       "176th mean: 0.47598208010961\t\n",
       "176th std dev: 0.40437286078129\t\n",
       "177th mean: 0.42754513842933\t\n",
       "177th std dev: 0.41293939433313\t\n",
       "178th mean: 0.19035205042599\t\n",
       "178th std dev: 0.30685816640292\t\n",
       "179th mean: 0.037483344886983\t\n",
       "179th std dev: 0.1595811376116\t\n",
       "180th mean: 0.0056928955303649\t\n"
      ]
     },
     "execution_count": 65,
     "metadata": {},
     "output_type": "execute_result"
    },
    {
     "data": {
      "text/plain": [
       "180th std dev: 0.052780654978898\t\n",
       "181th mean: -0.00018028614174837\t\n",
       "181th std dev: 0.0054229432939206\t\n",
       "182th mean: 0.0012412562534041\t\n",
       "182th std dev: 0.040196304316676\t\n",
       "183th mean: 0.035467428118163\t\n",
       "183th std dev: 0.14682035042745\t\n",
       "184th mean: 0.18377575158292\t\n",
       "184th std dev: 0.3151526640488\t\n",
       "185th mean: 0.3700403168573\t\n",
       "185th std dev: 0.39848100845051\t\n",
       "186th mean: 0.4820457977771\t\n",
       "186th std dev: 0.39612367403098\t\n",
       "187th mean: 0.45238341099877\t\n",
       "187th std dev: 0.40983069332901\t\n",
       "188th mean: 0.33896279645483\t\n",
       "188th std dev: 0.38702777784895\t\n",
       "189th mean: 0.29553023299292\t\n",
       "189th std dev: 0.37518695705045\t\n",
       "190th mean: 0.35184022963644\t\n",
       "190th std dev: 0.39295790600318\t\n"
      ]
     },
     "execution_count": 65,
     "metadata": {},
     "output_type": "execute_result"
    },
    {
     "data": {
      "text/plain": [
       "191th mean: 0.45005988171296\t\n",
       "191th std dev: 0.40420042643682\t\n",
       "192th mean: 0.45965139859409\t\n",
       "192th std dev: 0.41635945809267\t\n",
       "193th mean: 0.38467835462952\t\n",
       "193th std dev: 0.40757684734746\t\n",
       "194th mean: 0.36647900642701\t\n",
       "194th std dev: 0.40213251158768\t\n",
       "195th mean: 0.44205317678717\t\n",
       "195th std dev: 0.40883145122078\t\n",
       "196th mean: 0.50871905013616\t\n",
       "196th std dev: 0.40144102674757\t\n",
       "197th mean: 0.43016071070942\t\n",
       "197th std dev: 0.40599094582633\t\n",
       "198th mean: 0.18948590343171\t\n",
       "198th std dev: 0.30934375885522\t\n",
       "199th mean: 0.036531969713372\t\n",
       "199th std dev: 0.16011787119992\t\n",
       "200th mean: 0.0060263355187909\t\n",
       "200th std dev: 0.060616231911729\t\n"
      ]
     },
     "execution_count": 65,
     "metadata": {},
     "output_type": "execute_result"
    },
    {
     "data": {
      "text/plain": [
       "201th mean: -0.00039752663058279\t\n",
       "201th std dev: 0.005983959155844\t\n",
       "202th mean: 0.0031458496493736\t\n",
       "202th std dev: 0.051491903976842\t\n",
       "203th mean: 0.052076281344693\t\n",
       "203th std dev: 0.17424191321653\t\n",
       "204th mean: 0.24212034084287\t\n",
       "204th std dev: 0.34882780342712\t\n",
       "205th mean: 0.45040102208606\t\n",
       "205th std dev: 0.40918541630373\t\n",
       "206th mean: 0.51578273095384\t\n",
       "206th std dev: 0.40069284604023\t\n",
       "207th mean: 0.41748676278935\t\n",
       "207th std dev: 0.40091769526596\t\n",
       "208th mean: 0.30140019640115\t\n",
       "208th std dev: 0.37777434975312\t\n",
       "209th mean: 0.3077786586363\t\n",
       "209th std dev: 0.39249531232804\t\n",
       "210th mean: 0.4170056166122\t\n",
       "210th std dev: 0.42246374189644\t\n",
       "211th mean: 0.52343956815427\t\n",
       "211th std dev: 0.4150830795711\t\n"
      ]
     },
     "execution_count": 65,
     "metadata": {},
     "output_type": "execute_result"
    },
    {
     "data": {
      "text/plain": [
       "212th mean: 0.51461995906863\t\n",
       "212th std dev: 0.41017772908328\t\n",
       "213th mean: 0.44704555701969\t\n",
       "213th std dev: 0.41355337934589\t\n",
       "214th mean: 0.43040897939474\t\n",
       "214th std dev: 0.40909557516945\t\n",
       "215th mean: 0.48139240565427\t\n",
       "215th std dev: 0.40755428941939\t\n",
       "216th mean: 0.4959638009872\t\n",
       "216th std dev: 0.40780836520636\t\n",
       "217th mean: 0.37697778795956\t\n",
       "217th std dev: 0.39870979527185\t\n",
       "218th mean: 0.15978553139225\t\n",
       "218th std dev: 0.29013065411209\t\n",
       "219th mean: 0.034098263436138\t\n",
       "219th std dev: 0.15158022087144\t\n",
       "220th mean: 0.0055650117034314\t\n",
       "220th std dev: 0.051362248765246\t\n",
       "221th mean: -0.00055857616421568\t\n",
       "221th std dev: 0.0084929669196489\t\n",
       "222th mean: 0.0062575572542211\t\n",
       "222th std dev: 0.06580998594904\t\n"
      ]
     },
     "execution_count": 65,
     "metadata": {},
     "output_type": "execute_result"
    },
    {
     "data": {
      "text/plain": [
       "223th mean: 0.063372556251953\t\n",
       "223th std dev: 0.19528917940674\t\n",
       "224th mean: 0.26347239255515\t\n",
       "224th std dev: 0.35785395372934\t\n",
       "225th mean: 0.46922699096542\t\n",
       "225th std dev: 0.41027705539028\t\n",
       "226th mean: 0.51642614222495\t\n",
       "226th std dev: 0.40028844956316\t\n",
       "227th mean: 0.41649385295479\t\n",
       "227th std dev: 0.39974912197597\t\n",
       "228th mean: 0.33617091449594\t\n",
       "228th std dev: 0.39202744511931\t\n",
       "229th mean: 0.36847387625272\t\n",
       "229th std dev: 0.39895296356498\t\n",
       "230th mean: 0.47914322381876\t\n",
       "230th std dev: 0.40365611070206\t\n",
       "231th mean: 0.54886755727465\t\n",
       "231th std dev: 0.39078758133138\t\n",
       "232th mean: 0.51574474869281\t\n",
       "232th std dev: 0.40383820085253\t\n"
      ]
     },
     "execution_count": 65,
     "metadata": {},
     "output_type": "execute_result"
    },
    {
     "data": {
      "text/plain": [
       "233th mean: 0.45859517903537\t\n",
       "233th std dev: 0.41190652557723\t\n",
       "234th mean: 0.44514462001634\t\n",
       "234th std dev: 0.39964821894341\t\n",
       "235th mean: 0.46846476353826\t\n",
       "235th std dev: 0.40455615887373\t\n",
       "236th mean: 0.42694758661152\t\n",
       "236th std dev: 0.40350871373204\t\n",
       "237th mean: 0.28526234446146\t\n",
       "237th std dev: 0.37128764429079\t\n",
       "238th mean: 0.11355661796638\t\n",
       "238th std dev: 0.25416997386207\t\n",
       "239th mean: 0.027004715706699\t\n",
       "239th std dev: 0.13423263954632\t\n",
       "240th mean: 0.0041351404343682\t\n",
       "240th std dev: 0.046707778369494\t\n",
       "241th mean: -0.00076245557661734\t\n",
       "241th std dev: 0.0077207446148957\t\n",
       "242th mean: 0.0074830756084138\t\n",
       "242th std dev: 0.0673614236212\t\n"
      ]
     },
     "execution_count": 65,
     "metadata": {},
     "output_type": "execute_result"
    },
    {
     "data": {
      "text/plain": [
       "243th mean: 0.059424156168473\t\n",
       "243th std dev: 0.18925417079877\t\n",
       "244th mean: 0.24009993840447\t\n",
       "244th std dev: 0.34394178111706\t\n",
       "245th mean: 0.4286044434593\t\n",
       "245th std dev: 0.41047920804123\t\n",
       "246th mean: 0.49865988126248\t\n",
       "246th std dev: 0.40109468292858\t\n",
       "247th mean: 0.44864552367073\t\n",
       "247th std dev: 0.40774856002591\t\n",
       "248th mean: 0.39897531855107\t\n",
       "248th std dev: 0.40172571496345\t\n",
       "249th mean: 0.4207604365191\t\n",
       "249th std dev: 0.39628491166315\t\n",
       "250th mean: 0.48123524380715\t\n",
       "250th std dev: 0.40672782238963\t\n",
       "251th mean: 0.50313927527414\t\n",
       "251th std dev: 0.41476010949723\t\n",
       "252th mean: 0.46974411050304\t\n",
       "252th std dev: 0.41447360816896\t\n",
       "253th mean: 0.42706768561922\t\n",
       "253th std dev: 0.40597211744783\t\n"
      ]
     },
     "execution_count": 65,
     "metadata": {},
     "output_type": "execute_result"
    },
    {
     "data": {
      "text/plain": [
       "254th mean: 0.41918973279728\t\n",
       "254th std dev: 0.40958152996794\t\n",
       "255th mean: 0.40469564924653\t\n",
       "255th std dev: 0.40995284714097\t\n",
       "256th mean: 0.31423107682456\t\n",
       "256th std dev: 0.38637975126789\t\n",
       "257th mean: 0.18190977487329\t\n",
       "257th std dev: 0.31769888193205\t\n",
       "258th mean: 0.067520752918938\t\n",
       "258th std dev: 0.19998807421638\t\n",
       "259th mean: 0.017068419571155\t\n",
       "259th std dev: 0.10572604774578\t\n",
       "260th mean: 0.0024764255907491\t\n",
       "260th std dev: 0.033383142971321\t\n",
       "261th mean: -0.00058232078567538\t\n",
       "261th std dev: 0.0058673277429227\t\n",
       "262th mean: 0.0051902515795207\t\n",
       "262th std dev: 0.056813279524039\t\n",
       "263th mean: 0.040134970503309\t\n",
       "263th std dev: 0.15593181400947\t\n",
       "264th mean: 0.17876662851307\t\n"
      ]
     },
     "execution_count": 65,
     "metadata": {},
     "output_type": "execute_result"
    },
    {
     "data": {
      "text/plain": [
       "264th std dev: 0.30613671564487\t\n",
       "265th mean: 0.34207009303173\t\n",
       "265th std dev: 0.39764043095364\t\n",
       "266th mean: 0.43525979153391\t\n",
       "266th std dev: 0.40264268382745\t\n",
       "267th mean: 0.43609618422522\t\n",
       "267th std dev: 0.40605025683556\t\n",
       "268th mean: 0.40251668590083\t\n",
       "268th std dev: 0.4014539744148\t\n",
       "269th mean: 0.39075002978282\t\n",
       "269th std dev: 0.40417088553036\t\n",
       "270th mean: 0.38462021500545\t\n",
       "270th std dev: 0.405455130532\t\n",
       "271th mean: 0.37144266549564\t\n",
       "271th std dev: 0.40040029073013\t\n",
       "272th mean: 0.360691709872\t\n",
       "272th std dev: 0.39702209077072\t\n",
       "273th mean: 0.34996728973544\t\n",
       "273th std dev: 0.39664770645705\t\n",
       "274th mean: 0.33856524066925\t\n",
       "274th std dev: 0.39776056733267\t\n"
      ]
     },
     "execution_count": 65,
     "metadata": {},
     "output_type": "execute_result"
    },
    {
     "data": {
      "text/plain": [
       "275th mean: 0.29419191008987\t\n",
       "275th std dev: 0.38408725724971\t\n",
       "276th mean: 0.19870598303717\t\n",
       "276th std dev: 0.33962102209327\t\n",
       "277th mean: 0.10139826084559\t\n",
       "277th std dev: 0.24834641610623\t\n",
       "278th mean: 0.035477309380648\t\n",
       "278th std dev: 0.14943575050629\t\n",
       "279th mean: 0.0083515094260621\t\n",
       "279th std dev: 0.06918592905104\t\n",
       "280th mean: 0.0008831090379902\t\n",
       "280th std dev: 0.020385016691268\t\n",
       "281th mean: -0.00021313548134531\t\n",
       "281th std dev: 0.0052078862206791\t\n",
       "282th mean: 0.0022702849911492\t\n",
       "282th std dev: 0.03972882855936\t\n",
       "283th mean: 0.020191515419265\t\n",
       "283th std dev: 0.10743168553282\t\n"
      ]
     },
     "execution_count": 65,
     "metadata": {},
     "output_type": "execute_result"
    },
    {
     "data": {
      "text/plain": [
       "284th mean: 0.10858649010757\t\n",
       "284th std dev: 0.24429652897776\t\n",
       "285th mean: 0.22767298327887\t\n",
       "285th std dev: 0.34873339677233\t\n",
       "286th mean: 0.32172997794798\t\n",
       "286th std dev: 0.38566533347896\t\n",
       "287th mean: 0.34853306505651\t\n",
       "287th std dev: 0.39954734382036\t\n",
       "288th mean: 0.32449665439987\t\n",
       "288th std dev: 0.39503246357304\t\n",
       "289th mean: 0.28532229097903\t\n",
       "289th std dev: 0.37728091628604\t\n",
       "290th mean: 0.25308558842933\t\n",
       "290th std dev: 0.36157041197187\t\n",
       "291th mean: 0.24382593311206\t\n",
       "291th std dev: 0.36386354914107\t\n",
       "292th mean: 0.24998763808892\t\n",
       "292th std dev: 0.3670208251166\t\n",
       "293th mean: 0.25069542420135\t\n",
       "293th std dev: 0.36727254631767\t\n"
      ]
     },
     "execution_count": 65,
     "metadata": {},
     "output_type": "execute_result"
    },
    {
     "data": {
      "text/plain": [
       "294th mean: 0.22661715800313\t\n",
       "294th std dev: 0.35547466344755\t\n",
       "295th mean: 0.18010418336397\t\n",
       "295th std dev: 0.32864144492761\t\n",
       "296th mean: 0.10899442362813\t\n",
       "296th std dev: 0.26097402809903\t\n",
       "297th mean: 0.049547512629357\t\n",
       "297th std dev: 0.17502844394514\t\n",
       "298th mean: 0.018164517681709\t\n",
       "298th std dev: 0.11190103160227\t\n",
       "299th mean: 0.0048923054670479\t\n"
      ]
     },
     "execution_count": 65,
     "metadata": {},
     "output_type": "execute_result"
    },
    {
     "data": {
      "text/plain": [
       "299th std dev: 0.056841335731033\t\n",
       "300th mean: 0.00037258714937364\t\n"
      ]
     },
     "execution_count": 65,
     "metadata": {},
     "output_type": "execute_result"
    },
    {
     "data": {
      "text/plain": [
       "300th std dev: 0.014628762962642\t\n",
       "301th mean: -2.5252805010893e-05\t\n",
       "301th std dev: 0.0034090540614742\t\n",
       "302th mean: 0.00049371959763071\t\n",
       "302th std dev: 0.02366627303748\t\n",
       "303th mean: 0.0066972024071583\t\n",
       "303th std dev: 0.063595396694884\t\n",
       "304th mean: 0.049881809746051\t\n"
      ]
     },
     "execution_count": 65,
     "metadata": {},
     "output_type": "execute_result"
    },
    {
     "data": {
      "text/plain": [
       "304th std dev: 0.16766253955689\t\n",
       "305th mean: 0.12127283238698\t\n",
       "305th std dev: 0.26883459724437\t\n",
       "306th mean: 0.18683759139434\t\n",
       "306th std dev: 0.32643067033204\t\n",
       "307th mean: 0.209818259375\t\n",
       "307th std dev: 0.34729846594402\t\n",
       "308th mean: 0.18656814991236\t\n",
       "308th std dev: 0.33686405962546\t\n",
       "309th mean: 0.15380459676947\t\n",
       "309th std dev: 0.30887039344189\t\n"
      ]
     },
     "execution_count": 65,
     "metadata": {},
     "output_type": "execute_result"
    },
    {
     "data": {
      "text/plain": [
       "310th mean: 0.14133259488698\t\n",
       "310th std dev: 0.30007404360089\t\n",
       "311th mean: 0.1437141019744\t\n",
       "311th std dev: 0.30174743507292\t\n",
       "312th mean: 0.14734062746119\t\n",
       "312th std dev: 0.30392957333393\t\n",
       "313th mean: 0.1431627123062\t\n",
       "313th std dev: 0.30146600020034\t\n",
       "314th mean: 0.12322479361043\t\n",
       "314th std dev: 0.28395996054977\t\n"
      ]
     },
     "execution_count": 65,
     "metadata": {},
     "output_type": "execute_result"
    },
    {
     "data": {
      "text/plain": [
       "315th mean: 0.08814556548543\t\n",
       "315th std dev: 0.23931338892664\t\n",
       "316th mean: 0.047741949628949\t\n",
       "316th std dev: 0.17875387235849\t\n",
       "317th mean: 0.020663044692947\t\n",
       "317th std dev: 0.11626297808695\t\n"
      ]
     },
     "execution_count": 65,
     "metadata": {},
     "output_type": "execute_result"
    },
    {
     "data": {
      "text/plain": [
       "318th mean: 0.0076747989822402\t\n",
       "318th std dev: 0.073624934988592\t\n",
       "319th mean: 0.0024471806372549\t\n",
       "319th std dev: 0.039414705167509\t\n",
       "320th mean: 0.0003664028662854\t\n",
       "320th std dev: 0.014072200082664\t\n",
       "321th mean: -2.3790305010893e-06\t\n",
       "321th std dev: 0.0010922271480039\t\n"
      ]
     },
     "execution_count": 65,
     "metadata": {},
     "output_type": "execute_result"
    },
    {
     "data": {
      "text/plain": [
       "322th mean: -6.2433333333334e-05\t\n",
       "322th std dev: 0.0076843772261775\t\n",
       "323th mean: 0.0019709121349857\t\n",
       "323th std dev: 0.032343826599458\t\n",
       "324th mean: 0.022237277124183\t\n",
       "324th std dev: 0.10997543004353\t\n",
       "325th mean: 0.060267446166939\t\n",
       "325th std dev: 0.19284501683881\t\n"
      ]
     },
     "execution_count": 65,
     "metadata": {},
     "output_type": "execute_result"
    },
    {
     "data": {
      "text/plain": [
       "326th mean: 0.09291502719567\t\n",
       "326th std dev: 0.24026289560567\t\n",
       "327th mean: 0.095982923277506\t\n",
       "327th std dev: 0.24030561673231\t\n",
       "328th mean: 0.078337023538244\t\n",
       "328th std dev: 0.21909441134256\t\n",
       "329th mean: 0.067375744114243\t\n",
       "329th std dev: 0.2113484506582\t\n"
      ]
     },
     "execution_count": 65,
     "metadata": {},
     "output_type": "execute_result"
    },
    {
     "data": {
      "text/plain": [
       "330th mean: 0.069729354289216\t\n",
       "330th std dev: 0.21984538986988\t\n",
       "331th mean: 0.072986042895561\t\n",
       "331th std dev: 0.22216062592266\t\n",
       "332th mean: 0.072373105991286\t\n",
       "332th std dev: 0.21912009724304\t\n",
       "333th mean: 0.066259496728629\t\n",
       "333th std dev: 0.20931128928918\t\n"
      ]
     },
     "execution_count": 65,
     "metadata": {},
     "output_type": "execute_result"
    },
    {
     "data": {
      "text/plain": [
       "334th mean: 0.054147125381264\t\n",
       "334th std dev: 0.18628458293783\t\n",
       "335th mean: 0.036418809007353\t\n",
       "335th std dev: 0.15595928249814\t\n",
       "336th mean: 0.018711677222903\t\n",
       "336th std dev: 0.11048683862529\t\n",
       "337th mean: 0.0074007794049564\t\n",
       "337th std dev: 0.064642742725713\t\n"
      ]
     },
     "execution_count": 65,
     "metadata": {},
     "output_type": "execute_result"
    },
    {
     "data": {
      "text/plain": [
       "338th mean: 0.002519441855883\t\n",
       "338th std dev: 0.039221351013421\t\n",
       "339th mean: 0.00074129035266885\t\n",
       "339th std dev: 0.019101764849292\t\n",
       "340th mean: 0.00012578055555556\t\n",
       "340th std dev: 0.0060713306935027\t\n",
       "341th mean: -5.3580061962415e-06\t\n",
       "341th std dev: 0.00032939048037282\t\n",
       "342th mean: -3.11065352683e-05\t\n"
      ]
     },
     "execution_count": 65,
     "metadata": {},
     "output_type": "execute_result"
    },
    {
     "data": {
      "text/plain": [
       "342th std dev: 0.0036299043314902\t\n",
       "343th mean: 0.00021889324475602\t\n",
       "343th std dev: 0.014099347954143\t\n",
       "344th mean: 0.0070744904406669\t\n",
       "344th std dev: 0.056577994754714\t\n",
       "345th mean: 0.023398878599187\t\n",
       "345th std dev: 0.11682796377312\t\n"
      ]
     },
     "execution_count": 65,
     "metadata": {},
     "output_type": "execute_result"
    },
    {
     "data": {
      "text/plain": [
       "346th mean: 0.034862717979291\t\n",
       "346th std dev: 0.14660574412297\t\n",
       "347th mean: 0.028591771153506\t\n",
       "347th std dev: 0.13139417760685\t\n",
       "348th mean: 0.015885538303564\t\n",
       "348th std dev: 0.094761312181035\t\n",
       "349th mean: 0.014943231435055\t\n",
       "349th std dev: 0.093246811738857\t\n"
      ]
     },
     "execution_count": 65,
     "metadata": {},
     "output_type": "execute_result"
    },
    {
     "data": {
      "text/plain": [
       "350th mean: 0.019603891426494\t\n",
       "350th std dev: 0.11068497308748\t\n",
       "351th mean: 0.021040993708641\t\n",
       "351th std dev: 0.11305329419696\t\n",
       "352th mean: 0.02145005507657\t\n",
       "352th std dev: 0.1153952968039\t\n",
       "353th mean: 0.021046160578693\t\n",
       "353th std dev: 0.11712290955522\t\n"
      ]
     },
     "execution_count": 65,
     "metadata": {},
     "output_type": "execute_result"
    },
    {
     "data": {
      "text/plain": [
       "354th mean: 0.015465517226503\t\n",
       "354th std dev: 0.094414696274363\t\n",
       "355th mean: 0.010689430696534\t\n",
       "355th std dev: 0.080141731819694\t\n",
       "356th mean: 0.005821981655864\t\n",
       "356th std dev: 0.062577889499087\t\n",
       "357th mean: 0.0015658973170003\t\n",
       "357th std dev: 0.024030252574784\t\n"
      ]
     },
     "execution_count": 65,
     "metadata": {},
     "output_type": "execute_result"
    },
    {
     "data": {
      "text/plain": [
       "358th mean: 0.00012293482106861\t\n",
       "358th std dev: 0.009481312296181\t\n",
       "359th mean: 6.7605750546927e-05\t\n",
       "359th std dev: 0.0036858724366093\t\n",
       "360th mean: -9.3514328808447e-06\t\n",
       "360th std dev: 0.00053838577947907\t\n",
       "361th mean: 2.161628540305e-07\t\n",
       "361th std dev: 1.2701821020307e-05\t\n"
      ]
     },
     "execution_count": 65,
     "metadata": {},
     "output_type": "execute_result"
    },
    {
     "data": {
      "text/plain": [
       "362th mean: -2.0232502723312e-06\t\n",
       "362th std dev: 0.00018103832479235\t\n",
       "363th mean: -9.7324701398232e-05\t\n",
       "363th std dev: 0.001627208515499\t\n",
       "364th mean: 0.00047144177559913\t\n",
       "364th std dev: 0.014764290634086\t\n",
       "365th mean: 0.004212138647195\t\n",
       "365th std dev: 0.044134301088246\t\n"
      ]
     },
     "execution_count": 65,
     "metadata": {},
     "output_type": "execute_result"
    },
    {
     "data": {
      "text/plain": [
       "366th mean: 0.0084417102975218\t\n",
       "366th std dev: 0.064882232717796\t\n",
       "367th mean: 0.0052296740025872\t\n",
       "367th std dev: 0.049927041150778\t\n",
       "368th mean: 0.00092227302189067\t\n",
       "368th std dev: 0.02688818745513\t\n"
      ]
     },
     "execution_count": 65,
     "metadata": {},
     "output_type": "execute_result"
    },
    {
     "data": {
      "text/plain": [
       "369th mean: 0.00019177433619281\t\n",
       "369th std dev: 0.021030823189152\t\n",
       "370th mean: 0.00039409796772876\t\n",
       "370th std dev: 0.022465763240662\t\n",
       "371th mean: 0.00063636173747277\t\n",
       "371th std dev: 0.028585962528588\t\n",
       "372th mean: 0.0013590479609205\t\n",
       "372th std dev: 0.032787332217704\t\n"
      ]
     },
     "execution_count": 65,
     "metadata": {},
     "output_type": "execute_result"
    },
    {
     "data": {
      "text/plain": [
       "373th mean: 0.0026356100919925\t\n",
       "373th std dev: 0.039169159375216\t\n",
       "374th mean: 0.0016121273420479\t\n",
       "374th std dev: 0.028011021168321\t\n",
       "375th mean: 0.0010250722324346\t\n",
       "375th std dev: 0.024902262004541\t\n",
       "376th mean: 0.00093837891476035\t\n",
       "376th std dev: 0.023355143649364\t\n"
      ]
     },
     "execution_count": 65,
     "metadata": {},
     "output_type": "execute_result"
    },
    {
     "data": {
      "text/plain": [
       "377th mean: 0.00025851658156318\t\n",
       "377th std dev: 0.0084603391284086\t\n",
       "378th mean: -6.296528881823e-05\t\n",
       "378th std dev: 0.0011914126707954\t\n",
       "379th mean: -1.057199754902e-05\t\n",
       "379th std dev: 0.00030634881903341\t\n",
       "380th mean: -8.3643110021787e-07\t\n",
       "380th std dev: 6.7452058207686e-05\t\n"
      ]
     },
     "execution_count": 65,
     "metadata": {},
     "output_type": "execute_result"
    },
    {
     "data": {
      "text/plain": [
       "381th mean: 0\t\n",
       "381th std dev: 0\t\n",
       "382th mean: 3.0892565359477e-07\t\n",
       "382th std dev: 1.01744702682e-05\t\n",
       "383th mean: -4.0408157025804e-06\t\n",
       "383th std dev: 0.0002225375774096\t\n"
      ]
     },
     "execution_count": 65,
     "metadata": {},
     "output_type": "execute_result"
    },
    {
     "data": {
      "text/plain": [
       "384th mean: -1.587139501634e-05\t\n",
       "384th std dev: 0.0020795837717064\t\n",
       "385th mean: 0.0003087508374183\t\n",
       "385th std dev: 0.013932474114747\t\n",
       "386th mean: 0.00048719598651961\t\n",
       "386th std dev: 0.016529098302451\t\n",
       "387th mean: 0.00010909344362745\t\n",
       "387th std dev: 0.010915541891914\t\n"
      ]
     },
     "execution_count": 65,
     "metadata": {},
     "output_type": "execute_result"
    },
    {
     "data": {
      "text/plain": [
       "388th mean: -2.6340562281739e-05\t\n",
       "388th std dev: 0.004086899110636\t\n",
       "389th mean: 8.9015849673203e-05\t\n",
       "389th std dev: 0.0061770621524772\t\n",
       "390th mean: -4.8435522194989e-05\t\n",
       "390th std dev: 0.0032016686597255\t\n"
      ]
     },
     "execution_count": 65,
     "metadata": {},
     "output_type": "execute_result"
    },
    {
     "data": {
      "text/plain": [
       "391th mean: -7.1552199074074e-05\t\n",
       "391th std dev: 0.0028782294906084\t\n",
       "392th mean: 1.5687707652506e-05\t\n",
       "392th std dev: 0.0059441597953389\t\n",
       "393th mean: 0.0001224188305953\t\n",
       "393th std dev: 0.0093183903314678\t\n",
       "394th mean: 3.4204204112201e-05\t\n"
      ]
     },
     "execution_count": 65,
     "metadata": {},
     "output_type": "execute_result"
    },
    {
     "data": {
      "text/plain": [
       "394th std dev: 0.0081247844101358\t\n",
       "395th mean: 6.2119281045754e-06\t\n",
       "395th std dev: 0.0043685161906228\t\n",
       "396th mean: 2.5078210103486e-05\t\n",
       "396th std dev: 0.0046868534967647\t\n",
       "397th mean: 8.6812840413944e-06\t\n",
       "397th std dev: 0.0015641379769687\t\n",
       "398th mean: 3.9925604337369e-06\t\n",
       "398th std dev: 0.00029976665940598\t\n",
       "399th mean: -4.1210511982571e-07\t\n",
       "399th std dev: 3.0913903044264e-05\t\n",
       "400th mean: 0\t\n",
       "400th std dev: 0\t\n"
      ]
     },
     "execution_count": 65,
     "metadata": {},
     "output_type": "execute_result"
    }
   ],
   "source": [
    "mean = {}\n",
    "stdv = {}\n",
    "for i=1,400 do\n",
    "    mean[i] = dataset_inputs[{ {},{i} }]:mean()\n",
    "    stdv[i] = dataset_inputs[{ {}, {i} }]:std()\n",
    "    print(i .. 'th mean: ' .. mean[i])\n",
    "    print(i .. 'th std dev: ' .. stdv[i])\n",
    "    dataset_inputs[{ {},{i} }]:add(-mean[i])\n",
    "    if stdv[i] ~= 0 then\n",
    "        dataset_inputs[{ {},{i} }]:div(stdv[i])\n",
    "    end\n",
    "end"
   ]
  },
  {
   "cell_type": "code",
   "execution_count": 66,
   "metadata": {
    "collapsed": false
   },
   "outputs": [],
   "source": [
    "dataset_outputs = data.y"
   ]
  },
  {
   "cell_type": "code",
   "execution_count": 67,
   "metadata": {
    "collapsed": true
   },
   "outputs": [],
   "source": [
    "numOutput = torch.max(dataset_outputs) - torch.min(dataset_outputs) + 1"
   ]
  },
  {
   "cell_type": "code",
   "execution_count": 68,
   "metadata": {
    "collapsed": true
   },
   "outputs": [],
   "source": [
    "model = nn.Sequential()\n",
    "model:add(nn.Linear(400,10))\n",
    "model:add(nn.Sigmoid())\n",
    "model:add(nn.LogSoftMax())"
   ]
  },
  {
   "cell_type": "code",
   "execution_count": 69,
   "metadata": {
    "collapsed": false
   },
   "outputs": [
    {
     "data": {
      "text/plain": [
       "nn.Sequential {\n",
       "  [input -> (1) -> (2) -> (3) -> output]\n",
       "  (1): nn.Linear(400 -> 10)\n",
       "  (2): nn.Sigmoid\n",
       "  (3): nn.LogSoftMax\n",
       "}\n",
       "{\n",
       "  gradInput : DoubleTensor - empty\n",
       "  modules : \n",
       "    {\n",
       "      1 : \n",
       "        nn.Linear(400 -> 10)\n",
       "        {\n",
       "          gradBias : DoubleTensor - size: 10\n",
       "          weight : DoubleTensor - size: 10x400\n",
       "          bias : DoubleTensor - size: 10\n",
       "          gradInput : DoubleTensor - empty\n",
       "          gradWeight : DoubleTensor - size: 10x400\n",
       "          output : DoubleTensor - empty\n",
       "        }\n",
       "      2 : \n",
       "        nn.Sigmoid\n",
       "        {\n",
       "          gradInput : DoubleTensor - empty\n",
       "          output : DoubleTensor - empty\n",
       "        }\n",
       "      3 : \n",
       "        nn.LogSoftMax\n",
       "        {\n",
       "          gradInput : DoubleTensor - empty\n",
       "          output : DoubleTensor - empty\n",
       "        }\n"
      ]
     },
     "execution_count": 69,
     "metadata": {},
     "output_type": "execute_result"
    }
   ],
   "source": [
    "model"
   ]
  },
  {
   "cell_type": "code",
   "execution_count": 70,
   "metadata": {
    "collapsed": false
   },
   "outputs": [],
   "source": [
    "criterion = nn.ClassNLLCriterion()"
   ]
  },
  {
   "cell_type": "code",
   "execution_count": 71,
   "metadata": {
    "collapsed": false
   },
   "outputs": [
    {
     "data": {
      "text/plain": [
       "    }\n",
       "  output : DoubleTensor - empty\n",
       "}\n"
      ]
     },
     "execution_count": 70,
     "metadata": {},
     "output_type": "execute_result"
    }
   ],
   "source": [
    "x, dl_dx = model:getParameters()"
   ]
  },
  {
   "cell_type": "code",
   "execution_count": 72,
   "metadata": {
    "collapsed": true
   },
   "outputs": [],
   "source": [
    "feval = function()\n",
    "    _nidx_ = (_nidx_ or 0) + 1\n",
    "    if _nidx_ > (#dataset_inputs)[1] then _nidx_ = 1 end\n",
    "    \n",
    "    local inputs = dataset_inputs[_nidx_]\n",
    "    local target = dataset_outputs[_nidx_]\n",
    "    \n",
    "    dl_dx:zero()\n",
    "    \n",
    "    local loss_x = criterion:forward(model:forward(inputs), target)\n",
    "    model:backward(inputs, criterion:backward(model.output, target))\n",
    "        \n",
    "    return loss_x, dl_dx\n",
    "end"
   ]
  },
  {
   "cell_type": "code",
   "execution_count": 73,
   "metadata": {
    "collapsed": true
   },
   "outputs": [],
   "source": [
    "sgd_params = {\n",
    "    learningRate = 1e-3,\n",
    "    learningRateDecay = 1e-4,\n",
    "    weightDecay = 0,\n",
    "    momentum = 0\n",
    "}"
   ]
  },
  {
   "cell_type": "code",
   "execution_count": 74,
   "metadata": {
    "collapsed": true
   },
   "outputs": [],
   "source": [
    "epochs = 1e2"
   ]
  },
  {
   "cell_type": "code",
   "execution_count": 75,
   "metadata": {
    "collapsed": false,
    "scrolled": false
   },
   "outputs": [
    {
     "data": {
      "text/plain": [
       "epoch = 1 of 100 current loss = 2.0438981742464\t\n"
      ]
     },
     "execution_count": 75,
     "metadata": {},
     "output_type": "execute_result"
    },
    {
     "data": {
      "text/plain": [
       "epoch = 11 of 100 current loss = 1.8333121072657\t\n"
      ]
     },
     "execution_count": 75,
     "metadata": {},
     "output_type": "execute_result"
    },
    {
     "data": {
      "text/plain": [
       "epoch = 21 of 100 current loss = 1.815322967349\t\n"
      ]
     },
     "execution_count": 75,
     "metadata": {},
     "output_type": "execute_result"
    },
    {
     "data": {
      "text/plain": [
       "epoch = 31 of 100 current loss = 1.8059261226732\t\n"
      ]
     },
     "execution_count": 75,
     "metadata": {},
     "output_type": "execute_result"
    },
    {
     "data": {
      "text/plain": [
       "epoch = 41 of 100 current loss = 1.799704223603\t\n"
      ]
     },
     "execution_count": 75,
     "metadata": {},
     "output_type": "execute_result"
    },
    {
     "data": {
      "text/plain": [
       "epoch = 51 of 100 current loss = 1.7951119523841\t\n"
      ]
     },
     "execution_count": 75,
     "metadata": {},
     "output_type": "execute_result"
    },
    {
     "data": {
      "text/plain": [
       "epoch = 61 of 100 current loss = 1.7915017847631\t\n"
      ]
     },
     "execution_count": 75,
     "metadata": {},
     "output_type": "execute_result"
    },
    {
     "data": {
      "text/plain": [
       "epoch = 71 of 100 current loss = 1.7885438410881\t\n"
      ]
     },
     "execution_count": 75,
     "metadata": {},
     "output_type": "execute_result"
    },
    {
     "data": {
      "text/plain": [
       "epoch = 81 of 100 current loss = 1.7860483676755\t\n"
      ]
     },
     "execution_count": 75,
     "metadata": {},
     "output_type": "execute_result"
    },
    {
     "data": {
      "text/plain": [
       "epoch = 91 of 100 current loss = 1.7838967015288\t\n"
      ]
     },
     "execution_count": 75,
     "metadata": {},
     "output_type": "execute_result"
    }
   ],
   "source": [
    "for i = 1, epochs do\n",
    "    current_loss = 0\n",
    "    for i = 1, (#dataset_inputs)[1] do\n",
    "        _, fs = optim.sgd(feval, x, sgd_params)\n",
    "        current_loss = current_loss + fs[1]\n",
    "    end\n",
    "    \n",
    "    current_loss = current_loss / (#dataset_inputs)[1]\n",
    "    if i%10 == 1 then\n",
    "        print('epoch = ' .. i .. ' of ' .. epochs .. ' current loss = ' .. current_loss)\n",
    "    end\n",
    "end"
   ]
  },
  {
   "cell_type": "code",
   "execution_count": 76,
   "metadata": {
    "collapsed": false
   },
   "outputs": [],
   "source": [
    "function maxIndex(a)\n",
    "    local idx = 0\n",
    "    local mx = -1e5\n",
    "    for i = 1,(#a)[1] do\n",
    "        if mx < a[i] then\n",
    "            mx = a[i]\n",
    "            idx = i\n",
    "        end\n",
    "    end\n",
    "    return idx\n",
    "end"
   ]
  },
  {
   "cell_type": "code",
   "execution_count": 77,
   "metadata": {
    "collapsed": false
   },
   "outputs": [
    {
     "data": {
      "text/plain": [
       "accuracy: 0.8482\t\n"
      ]
     },
     "execution_count": 77,
     "metadata": {},
     "output_type": "execute_result"
    }
   ],
   "source": [
    "acc = 0.0\n",
    "for i = 1, (#dataset_inputs)[1] do\n",
    "    if (maxIndex(model:forward(dataset_inputs[i])) == dataset_outputs[i][1]) then\n",
    "        acc = acc + 1\n",
    "    end\n",
    "end\n",
    "print('accuracy: ' .. acc/(#dataset_inputs)[1])"
   ]
  }
 ],
 "metadata": {
  "kernelspec": {
   "display_name": "iTorch",
   "language": "lua",
   "name": "itorch"
  },
  "language_info": {
   "name": "lua",
   "version": "20100"
  }
 },
 "nbformat": 4,
 "nbformat_minor": 0
}
