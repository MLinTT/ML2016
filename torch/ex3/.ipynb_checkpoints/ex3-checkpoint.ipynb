{
 "cells": [
  {
   "cell_type": "markdown",
   "metadata": {},
   "source": [
    "[example-logistic-regression](https://github.com/torch/demos/blob/master/logistic-regression/example-logistic-regression.lua)\n"
   ]
  },
  {
   "cell_type": "code",
   "execution_count": 127,
   "metadata": {
    "collapsed": true
   },
   "outputs": [],
   "source": [
    "require 'nn'\n",
    "require 'optim'"
   ]
  },
  {
   "cell_type": "code",
   "execution_count": 128,
   "metadata": {
    "collapsed": true
   },
   "outputs": [],
   "source": [
    "local matio = require 'matio'\n",
    "data = matio.load('ex3data1.mat')"
   ]
  },
  {
   "cell_type": "code",
   "execution_count": 129,
   "metadata": {
    "collapsed": false,
    "scrolled": true
   },
   "outputs": [],
   "source": [
    "dataset_inputs = data.X"
   ]
  },
  {
   "cell_type": "code",
   "execution_count": 130,
   "metadata": {
    "collapsed": true
   },
   "outputs": [],
   "source": [
    "dataset_outputs = data.y"
   ]
  },
  {
   "cell_type": "code",
   "execution_count": 131,
   "metadata": {
    "collapsed": true
   },
   "outputs": [],
   "source": [
    "numOutput = torch.max(dataset_outputs) - torch.min(dataset_outputs) + 1"
   ]
  },
  {
   "cell_type": "code",
   "execution_count": 132,
   "metadata": {
    "collapsed": true
   },
   "outputs": [],
   "source": [
    "model = nn.Sequential()\n",
    "model:add(nn.Linear(400,10))\n",
    "model:add(nn.Sigmoid())"
   ]
  },
  {
   "cell_type": "code",
   "execution_count": 134,
   "metadata": {
    "collapsed": false
   },
   "outputs": [],
   "source": [
    "criterion = nn.ClassNLLCriterion()"
   ]
  },
  {
   "cell_type": "code",
   "execution_count": 135,
   "metadata": {
    "collapsed": true
   },
   "outputs": [],
   "source": [
    "x, dl_dx = model:getParameters()"
   ]
  },
  {
   "cell_type": "code",
   "execution_count": 137,
   "metadata": {
    "collapsed": true
   },
   "outputs": [],
   "source": [
    "feval = function()\n",
    "    _nidx_ = (_nidx_ or 0) + 1\n",
    "    if _nidx_ > (#dataset_inputs)[1] then _nidx_ = 1 end\n",
    "    \n",
    "    local inputs = dataset_inputs[_nidx_]\n",
    "    local target = dataset_outputs[_nidx_]\n",
    "    \n",
    "    dl_dx:zero()\n",
    "    \n",
    "    local loss_x = criterion:forward(model:forward(inputs), target)\n",
    "    model:backward(inputs, criterion:backward(model.output, target))\n",
    "        \n",
    "    return loss_x, dl_dx\n",
    "end"
   ]
  },
  {
   "cell_type": "code",
   "execution_count": 138,
   "metadata": {
    "collapsed": true
   },
   "outputs": [],
   "source": [
    "sgd_params = {\n",
    "    learningRate = 1e-1,\n",
    "    learningRateDecay = 1e-3,\n",
    "    weightDecay = 1e-1,\n",
    "    momentum = 0\n",
    "}"
   ]
  },
  {
   "cell_type": "code",
   "execution_count": 139,
   "metadata": {
    "collapsed": true
   },
   "outputs": [],
   "source": [
    "epochs = 1e2"
   ]
  },
  {
   "cell_type": "code",
   "execution_count": 140,
   "metadata": {
    "collapsed": false,
    "scrolled": true
   },
   "outputs": [
    {
     "data": {
      "text/plain": [
       "epoch = 1 of 100 current loss = -0.71985149611886\t\n"
      ]
     },
     "execution_count": 140,
     "metadata": {},
     "output_type": "execute_result"
    },
    {
     "data": {
      "text/plain": [
       "epoch = 11 of 100 current loss = -0.8848647051594\t\n"
      ]
     },
     "execution_count": 140,
     "metadata": {},
     "output_type": "execute_result"
    },
    {
     "data": {
      "text/plain": [
       "epoch = 21 of 100 current loss = -0.88601792609442\t\n"
      ]
     },
     "execution_count": 140,
     "metadata": {},
     "output_type": "execute_result"
    },
    {
     "data": {
      "text/plain": [
       "epoch = 31 of 100 current loss = -0.88622996466128\t"
      ]
     },
     "execution_count": 140,
     "metadata": {},
     "output_type": "execute_result"
    },
    {
     "data": {
      "text/plain": [
       "\n"
      ]
     },
     "execution_count": 140,
     "metadata": {},
     "output_type": "execute_result"
    },
    {
     "data": {
      "text/plain": [
       "epoch = 41 of 100 current loss = -0.88630140694852\t\n"
      ]
     },
     "execution_count": 140,
     "metadata": {},
     "output_type": "execute_result"
    },
    {
     "data": {
      "text/plain": [
       "epoch = 51 of 100 current loss = -0.88633344231457\t\n"
      ]
     },
     "execution_count": 140,
     "metadata": {},
     "output_type": "execute_result"
    },
    {
     "data": {
      "text/plain": [
       "epoch = 61 of 100 current loss = -0.88635045053024\t\n"
      ]
     },
     "execution_count": 140,
     "metadata": {},
     "output_type": "execute_result"
    },
    {
     "data": {
      "text/plain": [
       "epoch = 71 of 100 current loss = -0.88636055038898\t\n"
      ]
     },
     "execution_count": 140,
     "metadata": {},
     "output_type": "execute_result"
    },
    {
     "data": {
      "text/plain": [
       "epoch = 81 of 100 current loss = -0.8863670455896\t\n"
      ]
     },
     "execution_count": 140,
     "metadata": {},
     "output_type": "execute_result"
    },
    {
     "data": {
      "text/plain": [
       "epoch = 91 of 100 current loss = -0.88637147921257\t\n"
      ]
     },
     "execution_count": 140,
     "metadata": {},
     "output_type": "execute_result"
    }
   ],
   "source": [
    "for i = 1, epochs do\n",
    "    current_loss = 0\n",
    "    for i = 1, (#dataset_inputs)[1] do\n",
    "        _, fs = optim.sgd(feval, x, sgd_params)\n",
    "        current_loss = current_loss + fs[1]\n",
    "    end\n",
    "    \n",
    "    current_loss = current_loss / (#dataset_inputs)[1]\n",
    "    if i%10 == 1 then\n",
    "        print('epoch = ' .. i .. ' of ' .. epochs .. ' current loss = ' .. current_loss)\n",
    "    end\n",
    "end"
   ]
  },
  {
   "cell_type": "code",
   "execution_count": 141,
   "metadata": {
    "collapsed": false
   },
   "outputs": [],
   "source": [
    "function maxIndex(a)\n",
    "    local idx = 0\n",
    "    local mx = -1e5\n",
    "    for i = 1,(#a)[1] do\n",
    "        if mx < a[i] then\n",
    "            mx = a[i]\n",
    "            idx = i\n",
    "        end\n",
    "    end\n",
    "    return idx\n",
    "end"
   ]
  },
  {
   "cell_type": "code",
   "execution_count": 142,
   "metadata": {
    "collapsed": false
   },
   "outputs": [
    {
     "data": {
      "text/plain": [
       "accuracy: 0.8064\t\n"
      ]
     },
     "execution_count": 142,
     "metadata": {},
     "output_type": "execute_result"
    }
   ],
   "source": [
    "acc = 0.0\n",
    "for i = 1, (#dataset_inputs)[1] do\n",
    "    if (maxIndex(model:forward(dataset_inputs[i])) == dataset_outputs[i][1]) then\n",
    "        acc = acc + 1\n",
    "    end\n",
    "end\n",
    "print('accuracy: ' .. acc/(#dataset_inputs)[1])"
   ]
  }
 ],
 "metadata": {
  "kernelspec": {
   "display_name": "iTorch",
   "language": "lua",
   "name": "itorch"
  },
  "language_info": {
   "name": "lua",
   "version": "20100"
  }
 },
 "nbformat": 4,
 "nbformat_minor": 0
}
