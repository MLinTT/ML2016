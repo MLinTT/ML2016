{
 "cells": [
  {
   "cell_type": "markdown",
   "metadata": {},
   "source": [
    "[example-logistic-regression](https://github.com/torch/demos/blob/master/logistic-regression/example-logistic-regression.lua)\n"
   ]
  },
  {
   "cell_type": "code",
   "execution_count": 47,
   "metadata": {
    "collapsed": true
   },
   "outputs": [],
   "source": [
    "require 'nn'\n",
    "require 'optim'"
   ]
  },
  {
   "cell_type": "code",
   "execution_count": 48,
   "metadata": {
    "collapsed": true
   },
   "outputs": [],
   "source": [
    "local matio = require 'matio'\n",
    "data = matio.load('ex3data1.mat')"
   ]
  },
  {
   "cell_type": "code",
   "execution_count": 49,
   "metadata": {
    "collapsed": false,
    "scrolled": true
   },
   "outputs": [],
   "source": [
    "dataset_inputs = data.X"
   ]
  },
  {
   "cell_type": "code",
   "execution_count": 50,
   "metadata": {
    "collapsed": true
   },
   "outputs": [],
   "source": [
    "dataset_outputs = data.y"
   ]
  },
  {
   "cell_type": "code",
   "execution_count": 51,
   "metadata": {
    "collapsed": true
   },
   "outputs": [],
   "source": [
    "numOutput = torch.max(dataset_outputs) - torch.min(dataset_outputs) + 1"
   ]
  },
  {
   "cell_type": "code",
   "execution_count": 52,
   "metadata": {
    "collapsed": false
   },
   "outputs": [],
   "source": [
    "linLayer = nn.Linear(400,10)"
   ]
  },
  {
   "cell_type": "code",
   "execution_count": 53,
   "metadata": {
    "collapsed": true
   },
   "outputs": [],
   "source": [
    "model = nn.Sequential()\n",
    "model:add(linLayer)\n",
    "model:add(nn.Sigmoid())"
   ]
  },
  {
   "cell_type": "code",
   "execution_count": 54,
   "metadata": {
    "collapsed": false
   },
   "outputs": [
    {
     "data": {
      "text/plain": [
       "nn.Sequential {\n",
       "  [input -> (1) -> (2) -> output]\n",
       "  (1): nn.Linear(400 -> 10)\n",
       "  (2): nn.Sigmoid\n",
       "}\n",
       "{\n",
       "  gradInput : DoubleTensor - empty\n",
       "  modules : \n",
       "    {\n",
       "      1 : \n",
       "        nn.Linear(400 -> 10)\n",
       "        {\n",
       "          gradBias : DoubleTensor - size: 10\n",
       "          weight : DoubleTensor - size: 10x400\n",
       "          bias : DoubleTensor - size: 10\n",
       "          gradInput : DoubleTensor - empty\n",
       "          gradWeight : DoubleTensor - size: 10x400\n",
       "          output : DoubleTensor - empty\n",
       "        }\n",
       "      2 : \n",
       "        nn.Sigmoid\n",
       "        {\n",
       "          gradInput : DoubleTensor - empty\n",
       "          output : DoubleTensor - empty\n",
       "        }\n",
       "    }\n",
       "  output : DoubleTensor - empty\n",
       "}\n"
      ]
     },
     "execution_count": 54,
     "metadata": {},
     "output_type": "execute_result"
    }
   ],
   "source": [
    "model"
   ]
  },
  {
   "cell_type": "code",
   "execution_count": 55,
   "metadata": {
    "collapsed": false
   },
   "outputs": [],
   "source": [
    "criterion = nn.ClassNLLCriterion()"
   ]
  },
  {
   "cell_type": "code",
   "execution_count": 56,
   "metadata": {
    "collapsed": true
   },
   "outputs": [],
   "source": [
    "x, dl_dx = model:getParameters()"
   ]
  },
  {
   "cell_type": "code",
   "execution_count": 57,
   "metadata": {
    "collapsed": true
   },
   "outputs": [],
   "source": [
    "feval = function()\n",
    "    _nidx_ = (_nidx_ or 0) + 1\n",
    "    if _nidx_ > (#dataset_inputs)[1] then _nidx_ = 1 end\n",
    "    \n",
    "    local inputs = dataset_inputs[_nidx_]\n",
    "    local target = dataset_outputs[_nidx_]\n",
    "    \n",
    "    dl_dx:zero()\n",
    "    \n",
    "    local loss_x = criterion:forward(model:forward(inputs), target)\n",
    "    model:backward(inputs, criterion:backward(model.output, target))\n",
    "        \n",
    "    return loss_x, dl_dx\n",
    "end"
   ]
  },
  {
   "cell_type": "code",
   "execution_count": 58,
   "metadata": {
    "collapsed": true
   },
   "outputs": [],
   "source": [
    "sgd_params = {\n",
    "    learningRate = 1e-2,\n",
    "    learningRateDecay = 1e-3,\n",
    "    weightDecay = 0,\n",
    "    momentum = 0\n",
    "}"
   ]
  },
  {
   "cell_type": "code",
   "execution_count": 59,
   "metadata": {
    "collapsed": true
   },
   "outputs": [],
   "source": [
    "epochs = 1e2"
   ]
  },
  {
   "cell_type": "code",
   "execution_count": 60,
   "metadata": {
    "collapsed": false,
    "scrolled": false
   },
   "outputs": [
    {
     "data": {
      "text/plain": [
       "epoch = 1 of 100 current loss = -0.86834777668181\t\n"
      ]
     },
     "execution_count": 60,
     "metadata": {},
     "output_type": "execute_result"
    },
    {
     "data": {
      "text/plain": [
       "epoch = 11 of 100 current loss = -0.98178234765091\t\n"
      ]
     },
     "execution_count": 60,
     "metadata": {},
     "output_type": "execute_result"
    },
    {
     "data": {
      "text/plain": [
       "epoch = 21 of 100 current loss = -0.98452670577965\t\n"
      ]
     },
     "execution_count": 60,
     "metadata": {},
     "output_type": "execute_result"
    },
    {
     "data": {
      "text/plain": [
       "epoch = 31 of 100 current loss = -0.98578519432083\t\n"
      ]
     },
     "execution_count": 60,
     "metadata": {},
     "output_type": "execute_result"
    },
    {
     "data": {
      "text/plain": [
       "epoch = 41 of 100 current loss = -0.98656001749766\t\n"
      ]
     },
     "execution_count": 60,
     "metadata": {},
     "output_type": "execute_result"
    },
    {
     "data": {
      "text/plain": [
       "epoch = 51 of 100 current loss = -0.98710421963983\t\n"
      ]
     },
     "execution_count": 60,
     "metadata": {},
     "output_type": "execute_result"
    },
    {
     "data": {
      "text/plain": [
       "epoch = 61 of 100 current loss = -0.98751640282183\t\n"
      ]
     },
     "execution_count": 60,
     "metadata": {},
     "output_type": "execute_result"
    },
    {
     "data": {
      "text/plain": [
       "epoch = 71 of 100 current loss = -0.98784427708077\t\n"
      ]
     },
     "execution_count": 60,
     "metadata": {},
     "output_type": "execute_result"
    },
    {
     "data": {
      "text/plain": [
       "epoch = 81 of 100 current loss = -0.98811421918889\t\n"
      ]
     },
     "execution_count": 60,
     "metadata": {},
     "output_type": "execute_result"
    },
    {
     "data": {
      "text/plain": [
       "epoch = 91 of 100 current loss = -0.98834220344355\t\n"
      ]
     },
     "execution_count": 60,
     "metadata": {},
     "output_type": "execute_result"
    }
   ],
   "source": [
    "for i = 1, epochs do\n",
    "    current_loss = 0\n",
    "    for i = 1, (#dataset_inputs)[1] do\n",
    "        _, fs = optim.sgd(feval, x, sgd_params)\n",
    "        current_loss = current_loss + fs[1]\n",
    "    end\n",
    "    \n",
    "    current_loss = current_loss / (#dataset_inputs)[1]\n",
    "    if i%10 == 1 then\n",
    "        print('epoch = ' .. i .. ' of ' .. epochs .. ' current loss = ' .. current_loss)\n",
    "    end\n",
    "end"
   ]
  },
  {
   "cell_type": "code",
   "execution_count": 61,
   "metadata": {
    "collapsed": false
   },
   "outputs": [],
   "source": [
    "function maxIndex(a)\n",
    "    local idx = 0\n",
    "    local mx = -1e5\n",
    "    for i = 1,(#a)[1] do\n",
    "        if mx < a[i] then\n",
    "            mx = a[i]\n",
    "            idx = i\n",
    "        end\n",
    "    end\n",
    "    return idx\n",
    "end"
   ]
  },
  {
   "cell_type": "code",
   "execution_count": 62,
   "metadata": {
    "collapsed": false
   },
   "outputs": [
    {
     "data": {
      "text/plain": [
       "accuracy: 0.6912\t\n"
      ]
     },
     "execution_count": 62,
     "metadata": {},
     "output_type": "execute_result"
    }
   ],
   "source": [
    "acc = 0.0\n",
    "for i = 1, (#dataset_inputs)[1] do\n",
    "    if (maxIndex(model:forward(dataset_inputs[i])) == dataset_outputs[i][1]) then\n",
    "        acc = acc + 1\n",
    "    end\n",
    "end\n",
    "print('accuracy: ' .. acc/(#dataset_inputs)[1])"
   ]
  }
 ],
 "metadata": {
  "kernelspec": {
   "display_name": "iTorch",
   "language": "lua",
   "name": "itorch"
  },
  "language_info": {
   "name": "lua",
   "version": "20100"
  }
 },
 "nbformat": 4,
 "nbformat_minor": 0
}
