{
 "cells": [
  {
   "cell_type": "code",
   "execution_count": 1,
   "metadata": {
    "collapsed": false
   },
   "outputs": [],
   "source": [
    "import tensorflow as tf\n",
    "import scipy.io as sio\n",
    "import numpy as np"
   ]
  },
  {
   "cell_type": "code",
   "execution_count": 2,
   "metadata": {
    "collapsed": false
   },
   "outputs": [
    {
     "name": "stdout",
     "output_type": "stream",
     "text": [
      "[[ 0.  0.  0. ...,  0.  0.  0.]\n",
      " [ 0.  0.  0. ...,  0.  0.  0.]\n",
      " [ 0.  0.  0. ...,  0.  0.  0.]\n",
      " ..., \n",
      " [ 0.  0.  0. ...,  0.  0.  0.]\n",
      " [ 0.  0.  0. ...,  0.  0.  0.]\n",
      " [ 0.  0.  0. ...,  0.  0.  0.]]\n",
      "[[10]\n",
      " [10]\n",
      " [10]\n",
      " ..., \n",
      " [ 9]\n",
      " [ 9]\n",
      " [ 9]]\n"
     ]
    }
   ],
   "source": [
    "data = sio.loadmat('ex3data1.mat')\n",
    "x = data.get('X')\n",
    "y_temp = data.get('y')\n",
    "print(x)\n",
    "print(y_temp)"
   ]
  },
  {
   "cell_type": "code",
   "execution_count": 3,
   "metadata": {
    "collapsed": false
   },
   "outputs": [
    {
     "name": "stdout",
     "output_type": "stream",
     "text": [
      "(5000, 400)\n",
      "(5000,)\n",
      "[10 10 10 ...,  9  9  9]\n"
     ]
    }
   ],
   "source": [
    "y = np.asarray([i[0] for i in y_temp])\n",
    "\n",
    "print(x.shape)\n",
    "print(y.shape)\n",
    "print(y)"
   ]
  },
  {
   "cell_type": "code",
   "execution_count": 4,
   "metadata": {
    "collapsed": false
   },
   "outputs": [],
   "source": [
    "def vec2mat(vec, nLabel):\n",
    "    ret = np.zeros([len(vec), nLabel])\n",
    "    for i in xrange(len(vec)):\n",
    "        ret[i][vec[i]-1] = 1\n",
    "    return ret\n",
    "\n",
    "y_vec = vec2mat(y, 10)\n",
    "y_vec = np.float32(y_vec)\n",
    "x = np.float32(x)"
   ]
  },
  {
   "cell_type": "code",
   "execution_count": 14,
   "metadata": {
    "collapsed": true
   },
   "outputs": [],
   "source": [
    "b1 = tf.Variable(tf.zeros([400, 1]))\n",
    "w1 = tf.Variable(tf.random_uniform([400,400], -1.0, 1.0))\n",
    "b2 = tf.Variable(tf.zeros([10, 1]))\n",
    "w2 = tf.Variable(tf.random_uniform([10,400], -1.0, 1.0))"
   ]
  },
  {
   "cell_type": "code",
   "execution_count": 15,
   "metadata": {
    "collapsed": false
   },
   "outputs": [
    {
     "name": "stdout",
     "output_type": "stream",
     "text": [
      "(5000, 400)\n"
     ]
    }
   ],
   "source": [
    "print x.shape\n",
    "result1 = tf.clip_by_value(tf.sigmoid(tf.matmul(w1, x.T) + b1), 1e-10, 1.0) \n",
    "result2 = tf.matmul(w2, result1) + b2\n",
    "predict = tf.nn.softmax(result2)"
   ]
  },
  {
   "cell_type": "code",
   "execution_count": 16,
   "metadata": {
    "collapsed": false
   },
   "outputs": [],
   "source": [
    "loss = -tf.reduce_mean(y_vec.T * tf.log(predict))"
   ]
  },
  {
   "cell_type": "code",
   "execution_count": 17,
   "metadata": {
    "collapsed": false
   },
   "outputs": [],
   "source": [
    "train = tf.train.GradientDescentOptimizer(0.1).minimize(loss)\n",
    "\n"
   ]
  },
  {
   "cell_type": "code",
   "execution_count": null,
   "metadata": {
    "collapsed": false,
    "scrolled": true
   },
   "outputs": [
    {
     "name": "stdout",
     "output_type": "stream",
     "text": [
      "(0, 1.4708897)\n",
      "(500, 0.85442501)\n",
      "(1000, 0.7887789)"
     ]
    }
   ],
   "source": [
    "init = tf.initialize_all_variables()\n",
    "sess = tf.Session()\n",
    "sess.run(init)\n",
    "\n",
    "for step in xrange(15001):\n",
    "    sess.run(train)\n",
    "    if step % 500 == 0:\n",
    "        print(step,  sess.run(loss))"
   ]
  },
  {
   "cell_type": "code",
   "execution_count": 10,
   "metadata": {
    "collapsed": false
   },
   "outputs": [
    {
     "name": "stdout",
     "output_type": "stream",
     "text": [
      "5000\n",
      "852\n",
      "[10 10 10 ...,  9  9  7]\n"
     ]
    }
   ],
   "source": [
    "result1= sess.run(predict)\n",
    "print len(result1[0])\n",
    "print np.argmax(result1[0])\n",
    "_result = np.argmax(result1, 0) + 1\n",
    "print _result\n"
   ]
  },
  {
   "cell_type": "code",
   "execution_count": 11,
   "metadata": {
    "collapsed": false
   },
   "outputs": [
    {
     "name": "stdout",
     "output_type": "stream",
     "text": [
      "91.74\n"
     ]
    }
   ],
   "source": [
    "correct = [y[i] == _result[i] for i in xrange(len(y))]\n",
    "print(np.mean(correct) * 100)"
   ]
  },
  {
   "cell_type": "code",
   "execution_count": null,
   "metadata": {
    "collapsed": true
   },
   "outputs": [],
   "source": []
  }
 ],
 "metadata": {
  "kernelspec": {
   "display_name": "Python 2",
   "language": "python",
   "name": "python2"
  },
  "language_info": {
   "codemirror_mode": {
    "name": "ipython",
    "version": 2
   },
   "file_extension": ".py",
   "mimetype": "text/x-python",
   "name": "python",
   "nbconvert_exporter": "python",
   "pygments_lexer": "ipython2",
   "version": "2.7.6"
  }
 },
 "nbformat": 4,
 "nbformat_minor": 0
}
