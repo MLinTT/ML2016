{
 "cells": [
  {
   "cell_type": "code",
   "execution_count": 2,
   "metadata": {
    "collapsed": false
   },
   "outputs": [],
   "source": [
    "import tensorflow as tf\n",
    "import pandas as pd\n",
    "import numpy as np"
   ]
  },
  {
   "cell_type": "code",
   "execution_count": 16,
   "metadata": {
    "collapsed": false
   },
   "outputs": [
    {
     "name": "stdout",
     "output_type": "stream",
     "text": [
      "34.62365962451697    65.957614\n",
      "78.0246928153624     66.102779\n",
      "0                     0.606061\n",
      "dtype: float64\n",
      "34.62365962451697    65.957614\n",
      "78.0246928153624     66.102779\n",
      "0                     0.606061\n"
     ]
    }
   ],
   "source": [
    "data = pd.read_csv('ex2data1.txt')\n",
    "print(data.mean())\n",
    "print(data.mean().to_string())"
   ]
  },
  {
   "cell_type": "code",
   "execution_count": 9,
   "metadata": {
    "collapsed": false
   },
   "outputs": [
    {
     "name": "stdout",
     "output_type": "stream",
     "text": [
      "34.62365962451697\n"
     ]
    },
    {
     "ename": "TypeError",
     "evalue": "cannot concatenate a non-NDFrame object",
     "output_type": "error",
     "traceback": [
      "\u001b[1;31m---------------------------------------------------------------------------\u001b[0m",
      "\u001b[1;31mTypeError\u001b[0m                                 Traceback (most recent call last)",
      "\u001b[1;32m<ipython-input-9-2bf7c104d1b9>\u001b[0m in \u001b[0;36m<module>\u001b[1;34m()\u001b[0m\n\u001b[0;32m      2\u001b[0m \u001b[1;32mfor\u001b[0m \u001b[0md\u001b[0m \u001b[1;32min\u001b[0m \u001b[0mdata\u001b[0m\u001b[1;33m:\u001b[0m\u001b[1;33m\u001b[0m\u001b[0m\n\u001b[0;32m      3\u001b[0m     \u001b[1;32mprint\u001b[0m \u001b[0md\u001b[0m\u001b[1;33m\u001b[0m\u001b[0m\n\u001b[1;32m----> 4\u001b[1;33m     \u001b[0mresult\u001b[0m\u001b[1;33m.\u001b[0m\u001b[0mappend\u001b[0m\u001b[1;33m(\u001b[0m\u001b[0md\u001b[0m\u001b[1;33m)\u001b[0m\u001b[1;33m\u001b[0m\u001b[0m\n\u001b[0m\u001b[0;32m      5\u001b[0m \u001b[1;32mprint\u001b[0m \u001b[0mresult\u001b[0m\u001b[1;33m\u001b[0m\u001b[0m\n",
      "\u001b[1;32m/usr/local/lib/python2.7/dist-packages/pandas/core/frame.pyc\u001b[0m in \u001b[0;36mappend\u001b[1;34m(self, other, ignore_index, verify_integrity)\u001b[0m\n\u001b[0;32m   3970\u001b[0m             \u001b[0mto_concat\u001b[0m \u001b[1;33m=\u001b[0m \u001b[1;33m[\u001b[0m\u001b[0mself\u001b[0m\u001b[1;33m,\u001b[0m \u001b[0mother\u001b[0m\u001b[1;33m]\u001b[0m\u001b[1;33m\u001b[0m\u001b[0m\n\u001b[0;32m   3971\u001b[0m         return concat(to_concat, ignore_index=ignore_index,\n\u001b[1;32m-> 3972\u001b[1;33m                       verify_integrity=verify_integrity)\n\u001b[0m\u001b[0;32m   3973\u001b[0m \u001b[1;33m\u001b[0m\u001b[0m\n\u001b[0;32m   3974\u001b[0m     def join(self, other, on=None, how='left', lsuffix='', rsuffix='',\n",
      "\u001b[1;32m/usr/local/lib/python2.7/dist-packages/pandas/tools/merge.pyc\u001b[0m in \u001b[0;36mconcat\u001b[1;34m(objs, axis, join, join_axes, ignore_index, keys, levels, names, verify_integrity, copy)\u001b[0m\n\u001b[0;32m    752\u001b[0m                        \u001b[0mkeys\u001b[0m\u001b[1;33m=\u001b[0m\u001b[0mkeys\u001b[0m\u001b[1;33m,\u001b[0m \u001b[0mlevels\u001b[0m\u001b[1;33m=\u001b[0m\u001b[0mlevels\u001b[0m\u001b[1;33m,\u001b[0m \u001b[0mnames\u001b[0m\u001b[1;33m=\u001b[0m\u001b[0mnames\u001b[0m\u001b[1;33m,\u001b[0m\u001b[1;33m\u001b[0m\u001b[0m\n\u001b[0;32m    753\u001b[0m                        \u001b[0mverify_integrity\u001b[0m\u001b[1;33m=\u001b[0m\u001b[0mverify_integrity\u001b[0m\u001b[1;33m,\u001b[0m\u001b[1;33m\u001b[0m\u001b[0m\n\u001b[1;32m--> 754\u001b[1;33m                        copy=copy)\n\u001b[0m\u001b[0;32m    755\u001b[0m     \u001b[1;32mreturn\u001b[0m \u001b[0mop\u001b[0m\u001b[1;33m.\u001b[0m\u001b[0mget_result\u001b[0m\u001b[1;33m(\u001b[0m\u001b[1;33m)\u001b[0m\u001b[1;33m\u001b[0m\u001b[0m\n\u001b[0;32m    756\u001b[0m \u001b[1;33m\u001b[0m\u001b[0m\n",
      "\u001b[1;32m/usr/local/lib/python2.7/dist-packages/pandas/tools/merge.pyc\u001b[0m in \u001b[0;36m__init__\u001b[1;34m(self, objs, axis, join, join_axes, keys, levels, names, ignore_index, verify_integrity, copy)\u001b[0m\n\u001b[0;32m    803\u001b[0m         \u001b[1;32mfor\u001b[0m \u001b[0mobj\u001b[0m \u001b[1;32min\u001b[0m \u001b[0mobjs\u001b[0m\u001b[1;33m:\u001b[0m\u001b[1;33m\u001b[0m\u001b[0m\n\u001b[0;32m    804\u001b[0m             \u001b[1;32mif\u001b[0m \u001b[1;32mnot\u001b[0m \u001b[0misinstance\u001b[0m\u001b[1;33m(\u001b[0m\u001b[0mobj\u001b[0m\u001b[1;33m,\u001b[0m \u001b[0mNDFrame\u001b[0m\u001b[1;33m)\u001b[0m\u001b[1;33m:\u001b[0m\u001b[1;33m\u001b[0m\u001b[0m\n\u001b[1;32m--> 805\u001b[1;33m                 \u001b[1;32mraise\u001b[0m \u001b[0mTypeError\u001b[0m\u001b[1;33m(\u001b[0m\u001b[1;34m\"cannot concatenate a non-NDFrame object\"\u001b[0m\u001b[1;33m)\u001b[0m\u001b[1;33m\u001b[0m\u001b[0m\n\u001b[0m\u001b[0;32m    806\u001b[0m \u001b[1;33m\u001b[0m\u001b[0m\n\u001b[0;32m    807\u001b[0m             \u001b[1;31m# consolidate\u001b[0m\u001b[1;33m\u001b[0m\u001b[1;33m\u001b[0m\u001b[0m\n",
      "\u001b[1;31mTypeError\u001b[0m: cannot concatenate a non-NDFrame object"
     ]
    }
   ],
   "source": [
    "result = pd.DataFrame()\n",
    "for d in data:\n",
    "    print d\n",
    "    result.append(d)\n",
    "print result"
   ]
  },
  {
   "cell_type": "code",
   "execution_count": 3,
   "metadata": {
    "collapsed": false
   },
   "outputs": [
    {
     "name": "stdout",
     "output_type": "stream",
     "text": [
      "(99,)\n",
      "[ 65.95761108  66.1027832 ]\n",
      "[ 19.20427513  18.54450226]\n",
      "(2, 99)\n",
      "[[-1.85744572 -1.56789064 -0.30071497  0.6808446  -1.08696282 -0.2525973\n",
      "   0.47214127  0.5280686   0.96203643  1.55715048  0.47156402  0.85134387\n",
      "   0.1774071  -1.37569749 -0.62416106  0.16207504  0.10358332  0.24494003\n",
      "   0.57389158  0.07365097  1.235098   -0.80309314 -1.65304589  0.62311566\n",
      "  -0.19196746  0.7411145   1.41410053 -0.21492107 -1.41488326 -0.23840126\n",
      "   1.01263428 -0.72117442 -0.72443271 -1.33932257 -0.58958256 -1.66848838\n",
      "  -0.09272021  0.45987895 -1.654526    0.93441623 -0.75034797  1.48330283\n",
      "   0.85455662 -0.77638227 -0.19448461  0.58504784  1.65660965 -0.20227517\n",
      "   1.3334198   0.72833812  1.73476577  1.28039742 -1.63677609 -0.81602228\n",
      "  -0.85246295  1.65005064 -1.73817599  0.43173078  0.30403918  0.49145326\n",
      "  -1.59711826 -0.50529337 -1.86931229 -1.10857344  0.03141419 -1.32783246\n",
      "  -0.87923378  0.74576938  0.04109024 -1.73059273 -0.09988865  0.33268037\n",
      "  -0.28638026 -0.37057653  1.7636826  -0.97339475 -0.80708337 -0.28650162\n",
      "   0.84715778  1.19537365  1.50366998  0.07090341 -0.45400861  0.75030905\n",
      "   0.13074745 -1.24358547  0.49572754  0.66015565 -0.70867592  1.46512783\n",
      "   1.2752856  -0.54547483  0.44443646  1.24390006  0.91289854 -1.23388731\n",
      "   1.73697782 -0.55287647  0.45918334]\n",
      " [-1.19754016  0.36665398  1.08958292  0.49834675 -0.52772576  1.6397661\n",
      "  -1.05415452  1.14954758 -1.21703935 -1.50327611 -1.91428804  0.55969048\n",
      "   1.70486677  0.5356859   1.2458986  -0.72055382 -1.04743767  1.44648564\n",
      "  -0.99904656 -1.25451434 -0.01636178 -0.93003148 -1.18057919  0.15473996\n",
      "   0.20769913 -1.14757216 -1.47224832 -0.85452151 -0.05969971  0.36156812\n",
      "  -0.48805842 -0.16043346  0.17957225  0.27312484 -0.74894959  1.76692021\n",
      "   0.79836464 -1.32272995  0.49259523 -0.52817482 -1.03785443 -0.02878801\n",
      "  -1.37423623 -1.09359002 -0.75719422  0.23486289  1.11219156  1.65364575\n",
      "   1.2183398   0.43464813 -0.27521646 -1.22473931 -0.30771598 -0.87887204\n",
      "  -0.33939067  0.14876588  1.59053957  0.20069487  0.66600746  1.05999875\n",
      "  -1.02899861 -1.44739997 -0.89028043  0.01872821 -1.34868467  1.69497156\n",
      "  -0.76678091  1.40274858 -0.27562827 -1.22923803  0.64325809  1.62446034\n",
      "   0.37705073  0.52606797  0.33791533  1.2064538   0.52344769 -1.27231109\n",
      "  -1.26090765  0.19957419 -1.1005137   0.02623809 -0.35528055  1.34041715\n",
      "   1.05106747  0.68710417  1.31153452  1.64709985 -0.28759351  0.59620476\n",
      "   1.15430474 -1.64642227  1.01066911 -1.11863339 -0.95567387  1.1324687\n",
      "   0.14411941 -0.06313704  1.26328719]]\n"
     ]
    }
   ],
   "source": [
    "y = np.float32(data[:, 2])\n",
    "print(y.shape)\n",
    "x = np.float32(data[:, :2]).T\n",
    "mean = np.mean(x, axis=1)\n",
    "std = np.std(x, axis=1)\n",
    "print(np.mean(x, axis=1))\n",
    "print(np.std(x, axis=1))\n",
    "print(x.shape)\n",
    "x[0,:] = (x[0,:] - mean[0]) / std[0]\n",
    "x[1,:] = (x[1,:] - mean[1]) / std[1]\n",
    "print(x)"
   ]
  },
  {
   "cell_type": "code",
   "execution_count": null,
   "metadata": {
    "collapsed": true
   },
   "outputs": [],
   "source": []
  },
  {
   "cell_type": "code",
   "execution_count": 4,
   "metadata": {
    "collapsed": true
   },
   "outputs": [],
   "source": [
    "b = tf.Variable(tf.zeros([1]))\n",
    "w = tf.Variable(tf.random_uniform([1,2], -1.0, 1.0))"
   ]
  },
  {
   "cell_type": "code",
   "execution_count": 5,
   "metadata": {
    "collapsed": false
   },
   "outputs": [],
   "source": [
    "result = tf.matmul(w, x) + b\n"
   ]
  },
  {
   "cell_type": "code",
   "execution_count": 6,
   "metadata": {
    "collapsed": false
   },
   "outputs": [],
   "source": [
    "loss = tf.reduce_mean(-y * (tf.log(tf.clip_by_value(tf.sigmoid(result),1e-10,1.0)))\n",
    "                      - (1 - y) * tf.log(1 - tf.clip_by_value(tf.sigmoid(result), 1e-10, 1.0)))\n",
    "#loss = (-y * (tf.log(tf.clip_by_value(tf.sigmoid(result),1e-10,1.0)))\n",
    "#                      - (1 - y) * tf.log(tf.clip_by_value(1 - tf.sigmoid(result), 1e-10, 1.0)))\n",
    "#loss = tf.reduce_mean(tf.nn.softmax_cross_entropy_with_logits(result, y))"
   ]
  },
  {
   "cell_type": "code",
   "execution_count": 7,
   "metadata": {
    "collapsed": false
   },
   "outputs": [],
   "source": [
    "optimizer = tf.train.GradientDescentOptimizer(0.1)\n",
    "train = optimizer.minimize(loss)\n",
    "predict = tf.sigmoid(result)"
   ]
  },
  {
   "cell_type": "code",
   "execution_count": 8,
   "metadata": {
    "collapsed": false
   },
   "outputs": [
    {
     "name": "stdout",
     "output_type": "stream",
     "text": [
      "(0, array([[ 0.79882932,  0.06533477]], dtype=float32), array([ 0.01051466], dtype=float32), 0.53058338)\n",
      "(500, array([[ 2.47829819,  2.32016063]], dtype=float32), array([ 1.06112695], dtype=float32), 0.22380283)\n",
      "(1000, array([[ 3.00805116,  2.83314633]], dtype=float32), array([ 1.32222354], dtype=float32), 0.21104674)\n",
      "(1500, array([[ 3.29736972,  3.11431885]], dtype=float32), array([ 1.46360791], dtype=float32), 0.20731446)\n",
      "(2000, array([[ 3.47904944,  3.29110098]], dtype=float32), array([ 1.55184197], dtype=float32), 0.20585249)\n",
      "(2500, array([[ 3.60059595,  3.40943193]], dtype=float32), array([ 1.61062586], dtype=float32), 0.20520034)\n",
      "(3000, array([[ 3.68484569,  3.49147511]], dtype=float32), array([ 1.65125883], dtype=float32), 0.20488764)\n",
      "(3500, array([[ 3.74454093,  3.54961634]], dtype=float32), array([ 1.67999411], dtype=float32), 0.20473085)\n",
      "(4000, array([[ 3.78745127,  3.5914135 ]], dtype=float32), array([ 1.70062149], dtype=float32), 0.2046499)\n",
      "(4500, array([[ 3.81860447,  3.62176013]], dtype=float32), array([ 1.71558213], dtype=float32), 0.20460725)\n",
      "(5000, array([[ 3.84137797,  3.64394426]], dtype=float32), array([ 1.72651076], dtype=float32), 0.20458446)\n"
     ]
    }
   ],
   "source": [
    "init = tf.initialize_all_variables()\n",
    "sess = tf.Session()\n",
    "sess.run(init)\n",
    "\n",
    "for step in xrange(5001):\n",
    "    sess.run(train)\n",
    "    if step % 500 == 0:\n",
    "        print(step, sess.run(w), sess.run(b), sess.run(loss))"
   ]
  },
  {
   "cell_type": "code",
   "execution_count": 9,
   "metadata": {
    "collapsed": false
   },
   "outputs": [
    {
     "name": "stdout",
     "output_type": "stream",
     "text": [
      "[[ 0.  0.  1.  1.  0.  1.  0.  1.  1.  1.  0.  1.  1.  0.  1.  0.  0.  1.\n",
      "   1.  0.  1.  0.  0.  1.  1.  1.  1.  0.  0.  1.  1.  0.  0.  0.  0.  1.\n",
      "   1.  0.  0.  1.  0.  1.  1.  0.  0.  1.  1.  1.  1.  1.  1.  1.  0.  0.\n",
      "   0.  1.  1.  1.  1.  1.  0.  0.  0.  0.  0.  1.  0.  1.  1.  0.  1.  1.\n",
      "   1.  1.  1.  1.  1.  0.  1.  1.  1.  1.  0.  1.  1.  0.  1.  1.  0.  1.\n",
      "   1.  0.  1.  1.  1.  1.  1.  0.  1.]]\n"
     ]
    }
   ],
   "source": [
    "print np.round(sess.run(predict))\n",
    "output = np.round(sess.run(predict)).T"
   ]
  },
  {
   "cell_type": "code",
   "execution_count": 10,
   "metadata": {
    "collapsed": false
   },
   "outputs": [
    {
     "name": "stdout",
     "output_type": "stream",
     "text": [
      "(99, 99)\n",
      "88.8888888889\n"
     ]
    }
   ],
   "source": [
    "print(len(y), len(output))\n",
    "correct = [y[i] == output[i] for i in xrange(len(y))]\n",
    "print(np.mean(correct) * 100)"
   ]
  },
  {
   "cell_type": "code",
   "execution_count": null,
   "metadata": {
    "collapsed": true
   },
   "outputs": [],
   "source": []
  }
 ],
 "metadata": {
  "kernelspec": {
   "display_name": "Python 2",
   "language": "python",
   "name": "python2"
  },
  "language_info": {
   "codemirror_mode": {
    "name": "ipython",
    "version": 2
   },
   "file_extension": ".py",
   "mimetype": "text/x-python",
   "name": "python",
   "nbconvert_exporter": "python",
   "pygments_lexer": "ipython2",
   "version": "2.7.6"
  }
 },
 "nbformat": 4,
 "nbformat_minor": 0
}
